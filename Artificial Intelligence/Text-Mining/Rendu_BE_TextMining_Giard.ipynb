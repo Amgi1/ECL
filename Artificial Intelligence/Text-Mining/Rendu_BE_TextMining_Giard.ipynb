{
 "cells": [
  {
   "cell_type": "markdown",
   "metadata": {},
   "source": [
    "# __ECL__ 2023-24\n",
    "\n",
    "## Text Mining "
   ]
  },
  {
   "cell_type": "markdown",
   "metadata": {},
   "source": [
    "* __Objectifs__ : apprendre par mimétisme à partir d'exemples\n",
    "- Appliquer de multiples techniques/méthodes et donner un tableau comparatif "
   ]
  },
  {
   "cell_type": "markdown",
   "metadata": {},
   "source": [
    "### Traitements effectués (et les scores) en vue de \"choisir\" le meilleur modèle\n",
    "\n",
    "**Préparation** :        \n",
    "- Codage Tf (Term frequency) puis TfIdf (Term frequency Inverse Document Frequency)    \n",
    "\n",
    "\n",
    "**Data Mining**     \n",
    "* Méthode AD : Un seul Arbre de Décision : score 0.7236\n",
    "* Méthode RF : Random Forest (50) : score 0.83688\n",
    "* Evaluation : ROC de RF (AUC = 0.91)\n",
    "* Méthode : Logit : score 0.83176\n",
    "* Méthode : MNB : score 0.83776\n",
    "* Méthode : RF avec variation des profondeurs et nombres d'estimateurs\n",
    "<br>\n",
    "    - clf151,70 (Profondeur=70, arbres=151) : score =  0.8512  \n",
    "</br>\n",
    "* Méthode : RF avec 200 arbres / depth 100 : score = 0.85312\n",
    "* Méthode : GBoost : score = 0.81416\n",
    "* Méthode : XGBoost : score = 0.85504\n",
    "* Méthode : SVM (avec classification LinearSVC): score = 0.80736\n",
    "* Méthode : SVM (avec classification SVC): score = 0.87016\n",
    "\n",
    "<font size=\"4\">On décide de choisir Logit pour la suite</font>\n",
    "* Méthode : Logit : score = 0.90056\n",
    "* Méthode : Logit avec XV : score = 0.918\n",
    "\n",
    "<font size=\"4\">On délaisse les n-grams (on revient au mono-gram)</font>\n",
    "* Méthode : RF (sur ce résultat SVD): score = 0.70168\n",
    "* Méthode : Logit (sur ce résultat SVD) : 0.85528\n",
    "\n",
    "<font size=\"4\">Word2Vect</font>\n",
    "* Méthode : Logit sur ce Doc2Vect : score = 0.62024\n"
   ]
  },
  {
   "cell_type": "code",
   "execution_count": 1,
   "metadata": {
    "tags": []
   },
   "outputs": [],
   "source": [
    "import os,sys"
   ]
  },
  {
   "cell_type": "markdown",
   "metadata": {},
   "source": [
    "# 1- Les données\n",
    "\n",
    "Elles proviennent du fichier movie_reviews.csv.\n"
   ]
  },
  {
   "cell_type": "markdown",
   "metadata": {},
   "source": [
    "## 1.1 - Chargement des données\n",
    "\n",
    "On charge directement le fichier csv fourni.\n"
   ]
  },
  {
   "cell_type": "code",
   "execution_count": 3,
   "metadata": {
    "tags": []
   },
   "outputs": [
    {
     "data": {
      "text/html": [
       "<div>\n",
       "<style scoped>\n",
       "    .dataframe tbody tr th:only-of-type {\n",
       "        vertical-align: middle;\n",
       "    }\n",
       "\n",
       "    .dataframe tbody tr th {\n",
       "        vertical-align: top;\n",
       "    }\n",
       "\n",
       "    .dataframe thead th {\n",
       "        text-align: right;\n",
       "    }\n",
       "</style>\n",
       "<table border=\"1\" class=\"dataframe\">\n",
       "  <thead>\n",
       "    <tr style=\"text-align: right;\">\n",
       "      <th></th>\n",
       "      <th>review</th>\n",
       "      <th>sentiment</th>\n",
       "    </tr>\n",
       "  </thead>\n",
       "  <tbody>\n",
       "    <tr>\n",
       "      <th>0</th>\n",
       "      <td>One of the other reviewers has mentioned that ...</td>\n",
       "      <td>positive</td>\n",
       "    </tr>\n",
       "    <tr>\n",
       "      <th>1</th>\n",
       "      <td>A wonderful little production. &lt;br /&gt;&lt;br /&gt;The...</td>\n",
       "      <td>positive</td>\n",
       "    </tr>\n",
       "    <tr>\n",
       "      <th>2</th>\n",
       "      <td>I thought this was a wonderful way to spend ti...</td>\n",
       "      <td>positive</td>\n",
       "    </tr>\n",
       "    <tr>\n",
       "      <th>3</th>\n",
       "      <td>Basically there's a family where a little boy ...</td>\n",
       "      <td>negative</td>\n",
       "    </tr>\n",
       "    <tr>\n",
       "      <th>4</th>\n",
       "      <td>Petter Mattei's \"Love in the Time of Money\" is...</td>\n",
       "      <td>positive</td>\n",
       "    </tr>\n",
       "  </tbody>\n",
       "</table>\n",
       "</div>"
      ],
      "text/plain": [
       "                                              review sentiment\n",
       "0  One of the other reviewers has mentioned that ...  positive\n",
       "1  A wonderful little production. <br /><br />The...  positive\n",
       "2  I thought this was a wonderful way to spend ti...  positive\n",
       "3  Basically there's a family where a little boy ...  negative\n",
       "4  Petter Mattei's \"Love in the Time of Money\" is...  positive"
      ]
     },
     "execution_count": 3,
     "metadata": {},
     "output_type": "execute_result"
    }
   ],
   "source": [
    "import csv\n",
    "import pandas as pd\n",
    "csv_txt='./movie_reviews.csv'\n",
    "df_movie_reviews = pd.read_csv(csv_txt, header=0) \n",
    "df_movie_reviews.head()"
   ]
  },
  {
   "cell_type": "markdown",
   "metadata": {},
   "source": [
    "## 1.2- Préparation des données     \n",
    "### 1.2.1) Conserver les colonnes utiles    \n",
    "Les 2 colonnes du data frame sont utiles."
   ]
  },
  {
   "cell_type": "markdown",
   "metadata": {},
   "source": [
    "Vérifions que nous avons bien 2 colonnes :"
   ]
  },
  {
   "cell_type": "code",
   "execution_count": 3,
   "metadata": {
    "tags": []
   },
   "outputs": [
    {
     "name": "stdout",
     "output_type": "stream",
     "text": [
      "(50000, 2)\n"
     ]
    }
   ],
   "source": [
    "print(df_movie_reviews.shape)"
   ]
  },
  {
   "cell_type": "markdown",
   "metadata": {},
   "source": [
    "### 1.2.2) Renommage  des colonnes (attributs)   \n",
    "Pour plus de clarté, on **renomme** les colonnes des données en 'Avis' et 'Polarite'\n",
    "* __Avis__ est l'avis exprimé\n",
    "* __Polarite__ est l'opinion (sentiment) (0 ou 1 : négatif ou positif)"
   ]
  },
  {
   "cell_type": "code",
   "execution_count": 4,
   "metadata": {
    "tags": []
   },
   "outputs": [
    {
     "data": {
      "text/html": [
       "<div>\n",
       "<style scoped>\n",
       "    .dataframe tbody tr th:only-of-type {\n",
       "        vertical-align: middle;\n",
       "    }\n",
       "\n",
       "    .dataframe tbody tr th {\n",
       "        vertical-align: top;\n",
       "    }\n",
       "\n",
       "    .dataframe thead th {\n",
       "        text-align: right;\n",
       "    }\n",
       "</style>\n",
       "<table border=\"1\" class=\"dataframe\">\n",
       "  <thead>\n",
       "    <tr style=\"text-align: right;\">\n",
       "      <th></th>\n",
       "      <th>Avis</th>\n",
       "      <th>Polarite</th>\n",
       "    </tr>\n",
       "  </thead>\n",
       "  <tbody>\n",
       "    <tr>\n",
       "      <th>0</th>\n",
       "      <td>One of the other reviewers has mentioned that ...</td>\n",
       "      <td>positive</td>\n",
       "    </tr>\n",
       "    <tr>\n",
       "      <th>1</th>\n",
       "      <td>A wonderful little production. &lt;br /&gt;&lt;br /&gt;The...</td>\n",
       "      <td>positive</td>\n",
       "    </tr>\n",
       "    <tr>\n",
       "      <th>2</th>\n",
       "      <td>I thought this was a wonderful way to spend ti...</td>\n",
       "      <td>positive</td>\n",
       "    </tr>\n",
       "    <tr>\n",
       "      <th>3</th>\n",
       "      <td>Basically there's a family where a little boy ...</td>\n",
       "      <td>negative</td>\n",
       "    </tr>\n",
       "    <tr>\n",
       "      <th>4</th>\n",
       "      <td>Petter Mattei's \"Love in the Time of Money\" is...</td>\n",
       "      <td>positive</td>\n",
       "    </tr>\n",
       "    <tr>\n",
       "      <th>...</th>\n",
       "      <td>...</td>\n",
       "      <td>...</td>\n",
       "    </tr>\n",
       "    <tr>\n",
       "      <th>49995</th>\n",
       "      <td>I thought this movie did a down right good job...</td>\n",
       "      <td>positive</td>\n",
       "    </tr>\n",
       "    <tr>\n",
       "      <th>49996</th>\n",
       "      <td>Bad plot, bad dialogue, bad acting, idiotic di...</td>\n",
       "      <td>negative</td>\n",
       "    </tr>\n",
       "    <tr>\n",
       "      <th>49997</th>\n",
       "      <td>I am a Catholic taught in parochial elementary...</td>\n",
       "      <td>negative</td>\n",
       "    </tr>\n",
       "    <tr>\n",
       "      <th>49998</th>\n",
       "      <td>I'm going to have to disagree with the previou...</td>\n",
       "      <td>negative</td>\n",
       "    </tr>\n",
       "    <tr>\n",
       "      <th>49999</th>\n",
       "      <td>No one expects the Star Trek movies to be high...</td>\n",
       "      <td>negative</td>\n",
       "    </tr>\n",
       "  </tbody>\n",
       "</table>\n",
       "<p>50000 rows × 2 columns</p>\n",
       "</div>"
      ],
      "text/plain": [
       "                                                    Avis  Polarite\n",
       "0      One of the other reviewers has mentioned that ...  positive\n",
       "1      A wonderful little production. <br /><br />The...  positive\n",
       "2      I thought this was a wonderful way to spend ti...  positive\n",
       "3      Basically there's a family where a little boy ...  negative\n",
       "4      Petter Mattei's \"Love in the Time of Money\" is...  positive\n",
       "...                                                  ...       ...\n",
       "49995  I thought this movie did a down right good job...  positive\n",
       "49996  Bad plot, bad dialogue, bad acting, idiotic di...  negative\n",
       "49997  I am a Catholic taught in parochial elementary...  negative\n",
       "49998  I'm going to have to disagree with the previou...  negative\n",
       "49999  No one expects the Star Trek movies to be high...  negative\n",
       "\n",
       "[50000 rows x 2 columns]"
      ]
     },
     "execution_count": 4,
     "metadata": {},
     "output_type": "execute_result"
    }
   ],
   "source": [
    "df_movie_reviews=df_movie_reviews.rename(columns = {'review': 'Avis', 'sentiment' : 'Polarite'}) \n",
    "df_movie_reviews"
   ]
  },
  {
   "cell_type": "markdown",
   "metadata": {},
   "source": [
    "on vérifie les attributs :"
   ]
  },
  {
   "cell_type": "code",
   "execution_count": 5,
   "metadata": {
    "tags": []
   },
   "outputs": [
    {
     "data": {
      "text/plain": [
       "Index(['Avis', 'Polarite'], dtype='object')"
      ]
     },
     "execution_count": 5,
     "metadata": {},
     "output_type": "execute_result"
    }
   ],
   "source": [
    "df_movie_reviews.columns"
   ]
  },
  {
   "cell_type": "markdown",
   "metadata": {},
   "source": [
    "__Info : Combien de chaque polarité__ ?"
   ]
  },
  {
   "cell_type": "code",
   "execution_count": 6,
   "metadata": {},
   "outputs": [
    {
     "data": {
      "text/html": [
       "<div>\n",
       "<style scoped>\n",
       "    .dataframe tbody tr th:only-of-type {\n",
       "        vertical-align: middle;\n",
       "    }\n",
       "\n",
       "    .dataframe tbody tr th {\n",
       "        vertical-align: top;\n",
       "    }\n",
       "\n",
       "    .dataframe thead th {\n",
       "        text-align: right;\n",
       "    }\n",
       "</style>\n",
       "<table border=\"1\" class=\"dataframe\">\n",
       "  <thead>\n",
       "    <tr style=\"text-align: right;\">\n",
       "      <th></th>\n",
       "      <th>Avis</th>\n",
       "    </tr>\n",
       "    <tr>\n",
       "      <th>Polarite</th>\n",
       "      <th></th>\n",
       "    </tr>\n",
       "  </thead>\n",
       "  <tbody>\n",
       "    <tr>\n",
       "      <th>negative</th>\n",
       "      <td>25000</td>\n",
       "    </tr>\n",
       "    <tr>\n",
       "      <th>positive</th>\n",
       "      <td>25000</td>\n",
       "    </tr>\n",
       "  </tbody>\n",
       "</table>\n",
       "</div>"
      ],
      "text/plain": [
       "           Avis\n",
       "Polarite       \n",
       "negative  25000\n",
       "positive  25000"
      ]
     },
     "execution_count": 6,
     "metadata": {},
     "output_type": "execute_result"
    }
   ],
   "source": [
    "# Le bon groupement\n",
    "df_movie_reviews.groupby(['Polarite']).count()"
   ]
  },
  {
   "cell_type": "markdown",
   "metadata": {},
   "source": [
    "# 2- Vers l'analyse des \"avis\" (*sentiments*)\n",
    "## 2.1- Répartition des données pour l'analyse\n",
    "On les divise en 2 ensembles d'__apprentissage__ et de __test__"
   ]
  },
  {
   "cell_type": "markdown",
   "metadata": {},
   "source": [
    "__On découpe en train and test : par défaut 75% et 25%__"
   ]
  },
  {
   "cell_type": "code",
   "execution_count": 5,
   "metadata": {
    "tags": []
   },
   "outputs": [],
   "source": [
    "# On découpe en train and test : par défaut 75% et 25%\n",
    "from sklearn.model_selection import train_test_split\n",
    "X_train, X_test, y_train, y_test = train_test_split(df_movie_reviews[[\"Avis\"]], df_movie_reviews['Polarite'])"
   ]
  },
  {
   "cell_type": "markdown",
   "metadata": {},
   "source": [
    "__Combien dans chaque paquet train / test ?__"
   ]
  },
  {
   "cell_type": "code",
   "execution_count": 8,
   "metadata": {
    "tags": []
   },
   "outputs": [
    {
     "data": {
      "text/plain": [
       "(37500, 1)"
      ]
     },
     "execution_count": 8,
     "metadata": {},
     "output_type": "execute_result"
    }
   ],
   "source": [
    "X_train.shape  # les dimensions : (nb_lignes, nb_cols)"
   ]
  },
  {
   "cell_type": "code",
   "execution_count": 9,
   "metadata": {
    "tags": []
   },
   "outputs": [
    {
     "data": {
      "text/plain": [
       "(12500, 1)"
      ]
     },
     "execution_count": 9,
     "metadata": {},
     "output_type": "execute_result"
    }
   ],
   "source": [
    "X_test.shape"
   ]
  },
  {
   "cell_type": "markdown",
   "metadata": {},
   "source": [
    "## 2.2- Calcul de la matrice numérique "
   ]
  },
  {
   "cell_type": "markdown",
   "metadata": {},
   "source": [
    "#### 2.2.1 : Stemming et Lemmatization  de notre corpus\n",
    "\n",
    "**On filtre les mots (lemmatization) pour ne garder que les mots significatifs, ensuite on calcule la matrice TfIdf**\n",
    "\n",
    "Ces deux actions peuvent être regroupées dans un **pipeline**    \n",
    "On importe d'abord quelques outils."
   ]
  },
  {
   "cell_type": "markdown",
   "metadata": {},
   "source": [
    "Importation du nécessaire"
   ]
  },
  {
   "cell_type": "code",
   "execution_count": 10,
   "metadata": {},
   "outputs": [],
   "source": [
    "if False : # SI déjà fait, ne pas refaire\n",
    "    !pip install textblob\n",
    "    import nltk\n",
    "    nltk.download('brown')"
   ]
  },
  {
   "cell_type": "code",
   "execution_count": 6,
   "metadata": {
    "tags": []
   },
   "outputs": [
    {
     "name": "stderr",
     "output_type": "stream",
     "text": [
      "[nltk_data] Downloading package reuters to\n",
      "[nltk_data]     C:\\Users\\Amaury\\AppData\\Roaming\\nltk_data...\n",
      "[nltk_data]   Package reuters is already up-to-date!\n"
     ]
    },
    {
     "data": {
      "text/plain": [
       "True"
      ]
     },
     "execution_count": 6,
     "metadata": {},
     "output_type": "execute_result"
    }
   ],
   "source": [
    "import nltk\n",
    "nltk.download('reuters')"
   ]
  },
  {
   "cell_type": "code",
   "execution_count": 7,
   "metadata": {
    "tags": []
   },
   "outputs": [],
   "source": [
    "import nltk\n",
    "from nltk.corpus import stopwords\n",
    "import numpy as np\n",
    "\n",
    "# Une seule fois :\n",
    "if False : # Si déjà fait\n",
    "    nltk.download('wordnet')\n",
    "    nltk.download('words')\n",
    "    nltk.download('punkt')    \n",
    "    nltk.download('averaged_perceptron_tagger')\n",
    "    nltk.download('brown')\n",
    "    nltk.download('stopwords')\n",
    "    nltk.download('omw-1.4')   "
   ]
  },
  {
   "cell_type": "code",
   "execution_count": 8,
   "metadata": {
    "tags": []
   },
   "outputs": [],
   "source": [
    "from nltk.stem import WordNetLemmatizer \n",
    "from nltk.tokenize import word_tokenize\n",
    "from nltk.corpus import stopwords\n",
    "from textblob import TextBlob, Word\n",
    "\n",
    "import string\n",
    "\n",
    "# Initialisation du \"Wordnet Lemmatizer\"\n",
    "lemmatizer = WordNetLemmatizer()\n",
    "\n",
    "\n",
    "from nltk.corpus import brown  # Il y a davantage de mots ici\n",
    "words = set(brown.words())\n",
    "\n",
    "stop_words=set(stopwords.words('english')); # \";\" pour ne pas avoir les résultats !"
   ]
  },
  {
   "cell_type": "markdown",
   "metadata": {},
   "source": [
    "### 2.2.1.1 Lemmatization"
   ]
  },
  {
   "cell_type": "markdown",
   "metadata": {},
   "source": [
    "__On définit notre lemmatizer qui pré-traitera  le corpus!__\n",
    "1) vérifier que nos \"mots\" sont parmi les mots acceptables (non \"usuels\") : dans \"words\"\n",
    "2) enlever les mots usuels (stopwords)\n",
    "3) enlever qq mots étranges\n",
    "4) enlever les ponctuations\n",
    "5) etc.\n",
    "6) Lemmatiser !    \n",
    "\n",
    "N.B. 'le' et 'u' sont mis \"à la main\" !"
   ]
  },
  {
   "cell_type": "code",
   "execution_count": 9,
   "metadata": {
    "tags": []
   },
   "outputs": [],
   "source": [
    "def lemma(texte) :\n",
    "    #renvoie lemmatizer.lemmatize(texte)\n",
    "    return [lemmatizer.lemmatize(t) for t in word_tokenize(texte) if \\\n",
    "            t.lower() in words and \\\n",
    "            t.lower() not in stop_words \\\n",
    "            # cas des strs spécifiques non filtrés\n",
    "            and t not in [\"''\", '--', '1.2', '1/2', '18th', '2-3', '20th', '4.00', '4.2', '``', 'le', 'u', 'la']\\\n",
    "            #and t.lower() not in word_tokenize(stop_words).encode() \\ # génère un pb de 'byte' ?!\n",
    "            and t.lower() not in string.punctuation and not t.isdigit()]"
   ]
  },
  {
   "cell_type": "markdown",
   "metadata": {},
   "source": [
    "__Appliquer puis afficher quelques informations sont le corpus restant__"
   ]
  },
  {
   "cell_type": "code",
   "execution_count": 15,
   "metadata": {
    "tags": []
   },
   "outputs": [
    {
     "name": "stderr",
     "output_type": "stream",
     "text": [
      "c:\\Users\\Amaury\\.conda\\envs\\deeplearning\\Lib\\site-packages\\sklearn\\feature_extraction\\text.py:528: UserWarning: The parameter 'token_pattern' will not be used since 'tokenizer' is not None'\n",
      "  warnings.warn(\n"
     ]
    },
    {
     "name": "stderr",
     "output_type": "stream",
     "text": [
      "c:\\Users\\Amaury\\.conda\\envs\\deeplearning\\Lib\\site-packages\\sklearn\\feature_extraction\\text.py:409: UserWarning: Your stop_words may be inconsistent with your preprocessing. Tokenizing the stop words generated tokens ['le', 'u'] not in stop_words.\n",
      "  warnings.warn(\n"
     ]
    },
    {
     "name": "stdout",
     "output_type": "stream",
     "text": [
      "Il y a  22970  termes dans le vocabulaire\n",
      "\n",
      "Les 50 premiers termes:\n",
      "[\"'20s\" \"'30s\" \"'38\" \"'48\" \"'50\" \"'51\" \"'53\" \"'54\" \"'55\" \"'58\" \"'60\"\n",
      " \"'60s\" \"'61\" \"'76\" \"'90s\" \"'bout\" \"'em\" \"'fess\" \"'im\" \"'low\" \"'most\"\n",
      " \"'nother\" \"'nuff\" \"'pache\" \"'round\" \"'till\" \"'way\" '-ing' '-ism' '0.1'\n",
      " '0.10' '0.2' '0.5' '1,000' '1,000,000' '1,400' '1,500' '1,600' '1,700'\n",
      " '1-0' '1-1/2' '1-3' '1.0' '1.00' '1.07' '1.1' '1.25' '1.5' '1.8' '1/3']\n",
      "\n",
      "Tous les 50 termes:\n",
      "[\"'20s\" '1/4' '1950s' '26-year-old' '4.0' '6.3' 'aback' 'abrupt'\n",
      " 'accentuated' 'accounting' 'acreage' 'additionally' 'admitted'\n",
      " 'advertisement' 'afflicted' 'agin' 'airport' 'all-important' 'ally'\n",
      " 'ambiance' 'amusing' 'anguish' 'anterior' 'apathetic' 'applicable'\n",
      " 'approximation' 'aristocracy' 'arterial' 'aspen' 'associate' 'atomic'\n",
      " 'attribute' 'authorizes' 'avocation' 'baby-sitter' 'balanced'\n",
      " 'bankruptcy' 'bartender' 'bawling' 'bedlam' 'behaviorally' 'benefactor'\n",
      " 'better-than-average' 'billing' 'blackened' 'blessing' 'bloodshot' 'boar'\n",
      " 'bolting' 'bootlegging' 'bounty' 'brandishing' 'breathy' 'brisk'\n",
      " 'brownish' 'buggy' 'buoyed' 'butchered' 'cadet' 'camouflage' 'canvas'\n",
      " 'careening' 'carving' 'cathedral' 'cellist' 'chagrin' 'characterizes'\n",
      " 'checklist' 'chili' 'choreographic' 'circle' 'clamp' 'cleanly' 'clip'\n",
      " 'clucking' 'cobweb' 'coiled' 'colonist' 'command' 'commonly' 'compete'\n",
      " 'component' 'conceivable' 'condensation' 'confining' 'conjured'\n",
      " 'considered' 'constricting' 'contemplative' 'contradict' 'convert' 'cop'\n",
      " 'correctly' 'counseled' 'courtyard' 'cranky' 'creditor' 'critter'\n",
      " 'cruelest' 'cultivating' 'custodial' 'damaged' 'darned' 'death-wish'\n",
      " 'decisiveness' 'deep' 'definite' 'delineated' 'demoralized' 'depending'\n",
      " 'derivative' 'despairingly' 'determine' 'devotedly' 'dictionary'\n",
      " 'diligence' 'dirge' 'discernment' 'discriminating' 'disliked' 'displace'\n",
      " 'disservice' 'distrust' 'doan' 'dominated' 'doubt' 'dram' 'dresser'\n",
      " 'drugged' 'duly' 'dynasty' 'eat' 'educator' 'elaborate' 'elevated'\n",
      " 'embellished' 'emphasizing' 'encourage' 'enforce' 'enormity' 'entirety'\n",
      " 'epiphany' 'err' 'esteemed' 'eve' 'exacted' 'exciting' 'exhaustive'\n",
      " 'expedient' 'exploiting' 'extent' 'eye-to-eye' 'failing' 'fanatic'\n",
      " 'fastened' 'feasibility' 'fender' 'fielded' 'filth' 'first-aid'\n",
      " 'flammable' 'flesh' 'floundered' 'focussed' 'footnote' 'foresight'\n",
      " 'forsakes' 'fourteenth' 'freedom-loving' 'frivolous' 'full-grown'\n",
      " 'furthered' 'gallery' 'gasoline' 'generator' 'gherkin' 'glamour'\n",
      " 'glorify' 'goin' 'governs' 'granting' 'grayer' 'grin' 'grower' 'guitar'\n",
      " 'h' 'half-inch' 'handgun' 'hard-bitten' 'harvested' 'head-on' 'heated'\n",
      " 'helmsman' 'hesitated' 'highland' 'hit-and-miss' 'homeland' 'hooted'\n",
      " 'hot-blooded' 'hugged' 'hurdle' 'i.e.' 'ignorant' 'imbibe' 'impartial'\n",
      " 'implementing' 'improve' 'incapacitated' 'incomprehension'\n",
      " 'indecisiveness' 'individuality' 'inexact' 'inflated' 'inheritance'\n",
      " 'inquest' 'insoluble' 'instructs' 'intend' 'interlacing' 'intertwined'\n",
      " 'introverted' 'investor' 'irredeemably' 'jabbed' 'jewelry' 'joyfully'\n",
      " 'juvenile' 'kimono' 'knott' 'lagged' 'lark' 'law-breaking' 'learns'\n",
      " 'legitimized' 'levity' 'lifelong' 'limousine' 'listener' 'loathed'\n",
      " 'lonely' 'loosest' 'low-key' 'lumped' 'mackintosh' 'maintain' 'mana'\n",
      " 'mansion' 'marksmanship' 'masterful' 'mauling' 'median' 'memorable'\n",
      " 'merited' 'microscope' 'militant' 'minstrel' 'misplacing' 'mobilize'\n",
      " 'mold' 'monster' 'mosquito' 'movement' 'mumble' 'mute' 'napkin' 'naval'\n",
      " 'neglect' 'newer' 'ninetieth' 'non-conformists' 'northwest' 'nuance' 'ob'\n",
      " 'observer' 'octopus' 'oiled' 'one-room' 'opportune' 'orderly'\n",
      " 'ostentatious' 'outlived' 'overcame' 'overpriced' 'ox' 'painstakingly'\n",
      " 'panther' 'parceled' 'participation' 'patent' 'pavilion' 'pee-wee'\n",
      " 'peptide' 'perjury' 'personifies' 'pfennig' 'pick-up' 'pin-point'\n",
      " 'pitiable' 'plastered' 'pliable' 'poetically' 'politico' 'populous'\n",
      " 'postal' 'powerfully' 'precedes' 'prefer' 'present-day' 'prevailed'\n",
      " 'priority' 'proctor' 'program' 'prompted' 'prosaic' 'proved' 'psychiatry'\n",
      " 'pulpit' 'purged' 'pvt' 'questioned' 'racial' 'rainfall' 'rape'\n",
      " 'ravenous' 'readily' 'reasoning' 'recess' 'reconstruct' 'redeem'\n",
      " 'refilled' 'regaled' 'reimbursement' 'release' 'remarkably' 'renewal'\n",
      " 'replace' 'repudiation' 'residing' 'responding' 'retailer' 'reunion'\n",
      " 'revolt' 'ride' 'rioting' 'robe' 'roommate' 'routine' 'rummaged'\n",
      " 'sacrifice' 'saliva' 'sarcastic' 'sawmill' 'scenario' 'scoffing' 'screen'\n",
      " 'search' 'sedan' 'self-awareness' 'self-sufficient' 'sensitively'\n",
      " 'served' 'sexual' 'shared' 'shielded' 'shooing' 'showering' 'shutter'\n",
      " 'significance' 'simultaneously' 'six-foot' 'skipper' 'sleeping' 'slower'\n",
      " 'smithy' 'sneered' 'sobbed' 'softly' 'sombre' 'souffle' 'sparing'\n",
      " 'spectator' 'spinning' 'sporadic' 'spurt' 'stability' 'stance'\n",
      " 'statesmanship' 'steer' 'stilt' 'stooped' 'strange' 'stricture' 'stubbed'\n",
      " 'stylization' 'subsequently' 'successful' 'suitability' 'sunshine'\n",
      " 'supplier' 'surrendering' 'swanky' 'swindling' 'symptom' 'tactlessness'\n",
      " 'tank' 'taxiing' 'teething' 'tenant' 'terrified' 'theme' 'thinner'\n",
      " 'three-hour' 'thunderclap' 'timetable' 'tobacco' 'top-notch' 'touching'\n",
      " 'traffic' 'transferring' 'trapezoid' 'trespass' 'troika' 'truthfully'\n",
      " 'turntable' 'two-disc' 'ultra-modern' 'unawareness' 'unconnected'\n",
      " 'underline' 'undeveloped' 'unexplored' 'unhurried' 'unjustifiable'\n",
      " 'unobtainable' 'unrecognizable' 'unsolved' 'unwholesome' 'upstream'\n",
      " 'utilize' 'valuable' 'vehement' 'verse' 'view' 'virus' 'voiced' 'wacky'\n",
      " 'wan' 'warship' 'wax' 'week-old' 'well-organized' 'whiplash' 'wicket'\n",
      " 'wilt' 'wish' 'wondrously' 'worse' 'wretchedness' 'year-long' 'zenith']\n",
      "\n",
      "Le nbr d'occurrence des 50 premiers termes :\n",
      "[('reviewer', 17038), ('mentioned', 12575), ('watching', 22379), ('episode', 7051), ('hooked', 9844), ('right', 17120), ('exactly', 7252), ('happened', 9383), ('thing', 20496), ('struck', 19587), ('brutality', 2712), ('scene', 17603), ('violence', 22136), ('set', 18012), ('word', 22767), ('trust', 21094), ('faint', 7603), ('timid', 20654), ('pull', 15797), ('punch', 15815), ('regard', 16504), ('drug', 6399), ('sex', 18049), ('classic', 3576), ('use', 21881), ('called', 2926), ('nickname', 13376), ('given', 8789), ('maximum', 12460), ('security', 17800), ('state', 19292), ('focus', 8147), ('mainly', 12199), ('emerald', 6769), ('city', 3526), ('experimental', 7417), ('section', 17790), ('prison', 15453), ('cell', 3198), ('glass', 8811), ('face', 7571), ('privacy', 15456), ('high', 9677), ('agenda', 734), ('em', 6731), ('home', 9797), ('death', 5148), ('stare', 19269), ('dealing', 5141), ('shady', 18071)]\n",
      "\n",
      "Le nbr d'occurrence des 50 premiers termes :\n",
      "[('geometrically', 8735), ('hoydenish', 9936), ('typhoid', 21225), ('photochemical', 14727), ('basting', 1872), ('badgering', 1724), ('stationmaster', 19309), ('outfox', 13988), ('baseman', 1856), ('persiflage', 14636), ('mg.', 12647), ('unconquerable', 21354), ('memorandum', 12552), ('scalded', 17565), ('reprobate', 16792), ('winder', 22665), ('hesitatingly', 9654), ('mm.', 12845), ('boyars', 2520), ('probate', 15472), ('broil', 2673), ('cashew', 3106), ('blue-black', 2323), ('seafarer', 17739), ('electromagnetism', 6683), ('reelected', 16433), ('underarm', 21379), ('seaweed', 17766), ('eventfully', 7205), ('headsman', 9516), ('calibration', 2923), ('godhead', 8895), ('troopship', 21058), ('admiringly', 594), ('cutoff', 5012), ('squeamishness', 19186), ('compensatory', 3999), ('cobalt', 3747), ('discriminatory', 5902), ('limbic', 11792), ('telephoning', 20312), ('inversely', 11036), ('unawareness', 21303), (\"'fess\", 17), ('helpfulness', 9607), ('clear-headed', 3605), ('exalting', 7260), ('big-chested', 2133), ('censorial', 3209), ('clatter', 3587)]\n"
     ]
    }
   ],
   "source": [
    "from sklearn.feature_extraction.text import CountVectorizer\n",
    "\n",
    "\n",
    "count_vec_lemmatise = CountVectorizer(tokenizer=lemma, stop_words=\"english\", analyzer='word', \n",
    "                            ngram_range=(1, 1), max_df=1.0, min_df=0.0, max_features=None)\n",
    "\n",
    "# Transformer les données en  bag of words\n",
    "count_train = count_vec_lemmatise.fit(df_movie_reviews[\"Avis\"])\n",
    "\n",
    "bag_of_words_of_corpus = count_vec_lemmatise.transform(df_movie_reviews[\"Avis\"])\n",
    "\n",
    "# On enlève qq termes inutiles qui nous ont échappés (qui ont été créés par lemmatize)\n",
    "# Il s'agit d'un Dict de Python.\n",
    "for terme_a_jeter in ['n', 'u', 'ft'] :\n",
    "    count_train.vocabulary_.pop(terme_a_jeter, terme_a_jeter+\" n'y est ps !\")\n",
    "\n",
    "\n",
    "# Quelques prints \n",
    "print(\"Il y a \", len(count_train.vocabulary_), \" termes dans le vocabulaire\\n\")\n",
    "\n",
    "# Print Les 50 premiers termes\n",
    "print(\"Les 50 premiers termes:\\n{}\".format(np.array(count_vec_lemmatise.get_feature_names_out()[:50])))\n",
    "print(\"\\nTous les 50 termes:\\n{}\".format(np.array(count_vec_lemmatise.get_feature_names_out()[::50]))) # Tous les 50 termes\n",
    "#print(type(count_train.vocabulary_))\n",
    "#print(\"Vocabulary content:\\n {}\".format(count_train.vocabulary_))\n",
    "\n",
    "#les 50 premiers mots et leur nbr d'occurrence\n",
    "print(\"\\nLe nbr d'occurrence des 50 premiers termes :\")\n",
    "print([(k,v)  for k,v in count_train.vocabulary_.items()][:50])\n",
    "\n",
    "print(\"\\nLe nbr d'occurrence des 50 premiers termes :\")\n",
    "print([(k,v)  for k,v in count_train.vocabulary_.items()][-50:])"
   ]
  },
  {
   "cell_type": "code",
   "execution_count": 13,
   "metadata": {},
   "outputs": [],
   "source": [
    "from nltk import word_tokenize          \n",
    "from nltk.stem import WordNetLemmatizer \n",
    "\n",
    "from pattern.en import lemma\n",
    "from sklearn.feature_extraction.text import CountVectorizer\n",
    "\n",
    "class LemmaTokenizer(object):\n",
    "    def __init__(self):\n",
    "        self.wnl = WordNetLemmatizer()\n",
    "    def __call__(self, articles):\n",
    "        #return [lemma(t) for t in word_tokenize(articles) if t.lower() in words]\n",
    "\n",
    "        return [lemma(t) for t in word_tokenize(articles) if t.lower() in words and \\\n",
    "                t.lower() not in stop_words \\\n",
    "                #and t.lower() not in word_tokenize(stop_words).encode() \\ # génère un pb de 'byte' ?!\n",
    "                # cas des strs spécifiques non filtrés\n",
    "                and t not in [\"''\", '--', '1.2', '1/2', '18th', '2-3', '20th', '4.00', '4.2', '``']\\\n",
    "                and t.lower() not in string.punctuation and not t.isdigit()]\n",
    "                "
   ]
  },
  {
   "cell_type": "markdown",
   "metadata": {},
   "source": [
    "### 2.2.2- Etape TfIdf\n",
    "\n"
   ]
  },
  {
   "cell_type": "markdown",
   "metadata": {},
   "source": [
    "**Calcul du TfIdf de notre corpus**"
   ]
  },
  {
   "cell_type": "code",
   "execution_count": 27,
   "metadata": {},
   "outputs": [
    {
     "name": "stderr",
     "output_type": "stream",
     "text": [
      "c:\\Users\\Amaury\\.conda\\envs\\deeplearning\\Lib\\site-packages\\sklearn\\feature_extraction\\text.py:528: UserWarning: The parameter 'token_pattern' will not be used since 'tokenizer' is not None'\n",
      "  warnings.warn(\n"
     ]
    }
   ],
   "source": [
    "from sklearn.feature_extraction.text import TfidfVectorizer\n",
    "\n",
    "\n",
    "TfIdf_lemmatise = TfidfVectorizer(tokenizer=LemmaTokenizer(), stop_words=\"english\", \n",
    "                    smooth_idf=False, sublinear_tf=False, norm=None, analyzer='word')\n",
    "# max_df = min_df : par default=1.0\n",
    "\n",
    "corpus_fitted = TfIdf_lemmatise.fit(df_movie_reviews[\"Avis\"])\n",
    "train_lemmatise_transformed = corpus_fitted.transform(X_train[\"Avis\"])\n",
    "test_lemmatise_transformed = corpus_fitted.transform(X_test[\"Avis\"])"
   ]
  },
  {
   "cell_type": "markdown",
   "metadata": {},
   "source": [
    "<font size=\"4\"> On a maintenant la matrice TdIdf.</font>\n",
    "On peut déjà faire des calculs de similarité avec.  \n"
   ]
  },
  {
   "cell_type": "code",
   "execution_count": 18,
   "metadata": {
    "tags": []
   },
   "outputs": [
    {
     "name": "stdout",
     "output_type": "stream",
     "text": [
      "Un exemple d'avis :  It's been a while since seeing this the first time, so I watched it again with the second movie in the series. While I realize there is a 3rd movie out that I haven't seen yet, I'll review under the original title...<br /><br />Just from the standpoint of production value, screen writing, and movie making, this movie fails on many levels, though it succeeds on a few as well. What can you expect from a low-budget, \"B\" movie? Not much, and it works from the standpoint of production. However, the writing is certainly disjointed, with little in the way of character development...exactly what I'd expect when there is an agenda to a film. I didn't have a problem with the acting...the cast is solid; however, the screenplay in both movies gives the actors little opportunity to really stretch themselves. Because the film is \"Christian,\" this is predictable, as you can't very well portray violent chaos of the \"end times\" without also breaking some of the ethics which are normally associated with Christianity. In other words, the mistake comes in making this into a G-rated film when the content, even in the most conservative of Bible interpretations, would be R-rated by any measure. So, if the purpose of the movie is to scare people into Christian faith, then the movie should be somewhat scary, right? However, you can't comment on a film adaptation from a book without commenting on the book, or in this case, series of books. There are certainly plenty of Christian materials worthy enough to be made into movies...but not the \"Left Behind\" series...and these movies ultimately fail because, while being best-sellers, they are poorly written novels based on bad theology.<br /><br />As a Southern Baptist minister, I confess that the books were a guilty pleasure for me, though I have yet to finish the last two books of the series. I have described them as decent fiction, and if the books would take the point of view that this is one \"possibility\" or interpretation of the subject of biblical eschatology (study of the \"end times), then I could live with that. However, this series is divisive in Christian circles because it promotes the \"literalist\" interpretation of all Scripture above a more proper hermeneutic. Inevitably, this leads to the \"pre-trib, pre-millenial\" dispensation point of view, which confines an all-powerful God far too by humanity's world. In other words, as I've always said, God shouldn't need our helicopters and bombs to do his ultimate work. But because many people, particularly unstudied Christians, can't think beyond their own world-views, we are left with a pro-conservative, fundamentalist stance with regard to Bible interpretation, and attempts to push it through as the \"only\" interpretation.<br /><br />Thus, the books carry with them an agenda, not so much to get the \"lost\" to understand their need for Christ, but to state that the fundamentalist point of view is the only valid way to understand the Bible. I recall very clearly reading (several years ago) in the second novel a scene where the characters reference a person who was \"left behind\" BECAUSE of his non-adherence to this point of view; as if \"real\" christians worthy to be \"raptured\" couldn't possibly hold to another eschatology. This is disturbing for several reasons, the least of which is because a \"rapture\" is only briefly mentioned in Scripture and it's connection to real, end-time prophecy is tenuous at best.<br /><br />But the real issue with these books is comes in the way they divide the Christian community and how they portray \"true\" Christian behavior. Ultimately, I feel they harden more people to an otherwise legitimate faith/religion instead of win people towards it. It turns all Christians into caricatures, equally disdained and laughed at by the world despite the fact that there is theological room for a wide diversity of believes within Christian thought and practice. As a Christian body, on the whole, we've done enough of that kind of damage to society over 2000 years of history...and we certainly don't need to promote it by film to thousands, maybe millions of others.<br /><br />Thus, the \"Left Behind\" movies fail because the \"Left Behind\" books aren't worthy to be interpreted into movies.\n",
      "---------------\n"
     ]
    },
    {
     "name": "stdout",
     "output_type": "stream",
     "text": [
      "\n",
      "TFIDF du query :   (0, 18025)\t5.524512282970637\n",
      "  (0, 17880)\t3.7643031426530085\n",
      "  (0, 17761)\t7.16581793425276\n",
      "  (0, 17572)\t2.017050735025303\n",
      "  (0, 17497)\t4.033641846627211\n",
      "  (0, 17194)\t13.686089083979418\n",
      "  (0, 17168)\t3.2511318114051297\n",
      "  (0, 17167)\t3.7709900008760844\n",
      "  (0, 16546)\t4.169609583565283\n",
      "  (0, 16145)\t3.8329333832489003\n",
      "  (0, 16108)\t1.9331317490701816\n",
      "  (0, 16056)\t5.164337934042636\n",
      "  (0, 15999)\t2.1259012689057806\n",
      "  (0, 15998)\t2.4284505786532824\n",
      "  (0, 15958)\t4.247789835032843\n",
      "  (0, 15594)\t9.33972289655635\n",
      "  (0, 15574)\t3.6667163376092327\n",
      "  (0, 15559)\t3.3814118735400167\n",
      "  (0, 15267)\t7.557098407368968\n",
      "  (0, 14952)\t5.230851806876764\n",
      "  (0, 14812)\t3.8650549499123747\n",
      "  (0, 14774)\t2.8339574099282414\n",
      "  (0, 14598)\t3.924714786318711\n",
      "  (0, 14464)\t5.621299567917975\n",
      "  (0, 14463)\t3.888493522884392\n",
      "  :\t:\n",
      "  (0, 3720)\t13.298588578744262\n",
      "  (0, 3657)\t3.474085411156417\n",
      "  (0, 3557)\t4.617861966878657\n",
      "  (0, 3414)\t6.7635324790619755\n",
      "  (0, 3083)\t4.79382102716616\n",
      "  (0, 2502)\t4.165809103931508\n",
      "  (0, 2215)\t4.547379891840237\n",
      "  (0, 2187)\t4.358137892201708\n",
      "  (0, 2068)\t6.444499876726118\n",
      "  (0, 1966)\t3.5064163332758826\n",
      "  (0, 1765)\t3.8373619375825494\n",
      "  (0, 1755)\t11.621930197935376\n",
      "  (0, 1707)\t6.446069628472073\n",
      "  (0, 1680)\t2.706940493795339\n",
      "  (0, 1664)\t2.6576832250620948\n",
      "  (0, 1580)\t7.660895201050611\n",
      "  (0, 1577)\t6.732181949177899\n",
      "  (0, 1398)\t2.469762930361618\n",
      "  (0, 997)\t4.875691076180756\n",
      "  (0, 911)\t108.39137176706389\n",
      "  (0, 900)\t4.227412155890487\n",
      "  (0, 616)\t4.027016563593757\n",
      "  (0, 479)\t3.737067150172703\n",
      "  (0, 459)\t2.620195569087061\n",
      "  (0, 451)\t3.37086393374734\n",
      "\n",
      "cosine_similarities entre les 2 phrases : [0.01690786 0.01432187 0.02858097 ... 0.01819139 0.0207548  0.00459934]\n",
      "\n",
      "elements non. nuls  du consine :  [0.01690786 0.01432187 0.02858097 ... 0.01819139 0.0207548  0.00459934]\n",
      "0.01773289180140413\n",
      "\n",
      "Les indices des documents proches du query avec similarité par cosinus p/r à train set:\n",
      "[23174 35945 32948 30280 28912 24754  2370  8935 17741 14546]\n",
      "\n",
      "Le query =  This is another one of those 'humans vs insects/eco-horror' features; a theme that was popular in the late 70's. Only you can't really call it horror. There's zero suspense and no gruesome events. In other words: this movie is pretty lame. It's not that it's really bad or something; it's just very boring. A construction site near a hotel uncovers a big nest of ants. Later on we learn that, probably due to different sorts of pesticides used in the past, their bite became poisonous. Some people get bitten and rushed to the hospital and it takes ages for the residents of the hospital to figure out what's going on. Robert Foxworth figures it out first and then you can see him go berserk with a digging machine for what seems like several hours. Then they flee in the house, waiting to get rescued. And, man, you should see all the efforts they make for rescuing them. I won't spoil too much, but at one point they even use a big helicopter. All the time when I was watching this, I sat there thinking \"Come on, people, you all got shoes on. Just run out of the building. I'm sure a bunch of ants won't catch up with you.\" It's all pretty ridiculous.<br /><br />Of course, lots of close-ups of crawling ants are shown throughout the whole movie. Ants in the garden. Ants in the garbage. Ants in the kitchen. Ants on the roof. Ants in the bedroom. Ants in the sink. And the best part: Ants crawling on people's faces while the actors are breathing through straws. But when you see groups of ants in wider shots, they indeed look like black rice the set designers glued to the wall.<br /><br />One small surprise came near the end. No, it has nothing to do with a twist in the plot. It was just that Brian Dennehy made an appearance as a chief-fireman. Ehrr... What more can I say? This movie is called IT HAPPENED AT LAKEWOOD MANOR but the box-art of my copy read ANTS and the title during the opening credits was PANIC AT LAKEWOOD MANOR. There you have it. Now, since this is a made-for-TV movie from the 70's, I'll be once again extremely mild in my final rating. Now, THE SAVAGE BEES, another 'humans vs insects' TV-movie from 1976 was much better than this one. I even feel I have to go back and add a few points to its rating after having seen ANTS. Lacking suspense, action, thrills, shocks and creepiness, the only thing you'll be left with after seeing ANTS is an annoying itch.\n",
      "\n",
      "Les documents proches du Query : This is another one of those 'humans vs insects/eco-horror' features; a theme that was popular in the late 70's. Only you can't really call it horror. There's zero suspense and no gruesome events. In other words: this movie is pretty lame. It's not that it's really bad or something; it's just very boring. A construction site near a hotel uncovers a big nest of ants. Later on we learn that, probably due to different sorts of pesticides used in the past, their bite became poisonous. Some people get bitten and rushed to the hospital and it takes ages for the residents of the hospital to figure out what's going on. Robert Foxworth figures it out first and then you can see him go berserk with a digging machine for what seems like several hours. Then they flee in the house, waiting to get rescued. And, man, you should see all the efforts they make for rescuing them. I won't spoil too much, but at one point they even use a big helicopter. All the time when I was watching this, I sat there thinking \"Come on, people, you all got shoes on. Just run out of the building. I'm sure a bunch of ants won't catch up with you.\" It's all pretty ridiculous.<br /><br />Of course, lots of close-ups of crawling ants are shown throughout the whole movie. Ants in the garden. Ants in the garbage. Ants in the kitchen. Ants on the roof. Ants in the bedroom. Ants in the sink. And the best part: Ants crawling on people's faces while the actors are breathing through straws. But when you see groups of ants in wider shots, they indeed look like black rice the set designers glued to the wall.<br /><br />One small surprise came near the end. No, it has nothing to do with a twist in the plot. It was just that Brian Dennehy made an appearance as a chief-fireman. Ehrr... What more can I say? This movie is called IT HAPPENED AT LAKEWOOD MANOR but the box-art of my copy read ANTS and the title during the opening credits was PANIC AT LAKEWOOD MANOR. There you have it. Now, since this is a made-for-TV movie from the 70's, I'll be once again extremely mild in my final rating. Now, THE SAVAGE BEES, another 'humans vs insects' TV-movie from 1976 was much better than this one. I even feel I have to go back and add a few points to its rating after having seen ANTS. Lacking suspense, action, thrills, shocks and creepiness, the only thing you'll be left with after seeing ANTS is an annoying itch.\n",
      "un docmument proche : This is another of those films I can remember from when I was a kid and I recently managed to acquire it off ebay - 20 years on, it's nowhere near as good as I remember it being.<br /><br />The story is 'vaguely' kick started, by a 'cosmic event' (there's another extra film-crew member in the credits for 'weak story development') which makes collective ants become super intelligent. Ant species who used to war with each other have ceased rivalries and are now working together. The thing I wanted to know throughout was, TO DO WHAT EXACTLY? You never find out what they want. Nigel Davenport and his sidekick travel out to the desert where bizarre ant activity has been noted, and begin to study the ants from an impregnable igloo shaped laboratory. Probably the most chilling scene in my opinion was when the two scientists visit the giant square in the crops (like a square version of a crop circle) a result of the ants chomping away.<br /><br />This film was not very scary quite simply because you don't know whether to fear the ants or like them. All you know is that the ants want people to leave the area so they can get on with their hijinks - but you don't find out whether they are really baddies. It ain't a sci-fi because the 'cosmic event' explanation is too vague to be properly taken into account. It is deffo more of a chiller. TBH the flares, daft hairstyles, tight shirts with big collars and Nigel Davenports unnaturally big facial hair-do freaked me out more than the ants! Did you notice that there are only six actors listed in the credits? Yup, that right - SIX, and you won't see any other human beings in this film at all. Not even in the distance! This is a plainly obviously low budget film which is a bit watchable because you probably won't have seen one like it. I can't think of any anyway. The filming of the ants is pretty good, they must have done months and months of filming before they had the shots they needed to stick in the film. You may well say to yourself 'how the Hell do they get the ants to do that?' over and over, but it is all quite simple. You will also notice that the film makers sacrificed millions of innocent lickle ants to make the film too, so animal rights peeps STAY AWAY! Good for novelty value, but you may not watch it more than once.\n",
      "un docmument proche : Is there a book titled \"How to Make a Movie with Every 'Man vs. Nature' Cliché Imaginable\"? If not, Ants would make excellent source material for the chapter on killer insects. Ants doesn't have one shred of originality to be found at any point of its 100 minute runtime. I suppose the most surprising thing about Ants is that they actually stretched the film to 100 minutes. The set-up, the characters, the various sub-plots, the death scenes, and the way the ants are presented have been done before any number of times  and in most cases, much better. It's amazing that so many of these Insects on a Rampage films were made in the 70s because they're all basically the same movie.<br /><br />And can someone please tell me what in God's name Myrna Loy is doing in this monkey-turd of a movie? A woman as talented and classy as Loy deserved better than Ants as one of her final movies.\n",
      "un docmument proche : Ants are shown in cartoons as being able to carry away chicken legs, watermellons, people, etc. This may be an admirable characteristic because ants carry the film Phase IV. This is not because they want to, but because they have to.<br /><br />The movie opens with a narrator cryptically explaining that some cosmic event has come over the earth, and that a fellow scientist has been working on the effect this disturbance has on the ant population. The movie is broken up in segments; the first part after the cosmic event is Phase I, and so on until the end of the movie, which is Phase IV.<br /><br />What is Phase IV? Who knows? We don't get to see that part; presumably it has something to do with the bonding of one of the scientists studying the ants and a girl who lived in the area. The girl, who looks like a cross between Alicia Silverstone and Liv Tyler, is mad at the ants because they killed her horse, but except for one angry outburst, goes around the biodome with a blank (\"Clueless\"?) look.<br /><br />These ants are pretty smart; or the scientists are rather dumb. I'll give credit to the ants. Why? Anything that usually ruins my picnics that can then build reflecting towers, blow up trucks, and adapts to poison with the greatest of ease gets my vote for being the smarter species, at least in this movie.<br /><br />Sterno says stomp on this anthill.<br /><br />\n",
      "un docmument proche : Even for a tired movie model as the nature vs. man cycle that prevailed so predominantly in the 1970s, ants falls miserably short of being even somewhat effective(though entertaining for reasons it was not intending). It is sooooo preposterous. Apparently these ants that are bulldozed near an inn have been eating poisonous waste for decades and have now adapted by emitting poisonous bites - hundreds of these bites being fatal. Watching actors of some notoriety clumsily fall amidst tiny black specks is painfully funny in a not-so-good-but very-bad way. So many scenes just look ludicrous: a boy trying to fall in a dumpster whilst being attacked, Suzanne Sommers crying out in horror while lounging in bed, Robert Foxworth and Lynda George breathing through pieces of wallpaper, Bernie Casey faking a gam leg, and the list goes on and on. The peril shown ranges from ants crawling from a drain to black lines of ants all over the walls. The cast for the film is not bad on paper, but none of these actors seem to believe in the material. Poor Myrna Loy has to sit in a wheelchair through this horror. I hope she found a good use for the money, for it is obvious that was the ONLY reason a woman of her pedigree would be in this nonsense. Although it is quite a bad film, it is watchable - once for me, and does have many of those seventies bad film qualities - start-studded actors embarrassing themselves, that made-for-TV feel, and the dreaded creatures of nature reeking vengeance on man. This time man must push his hand into a pile of ants to be affected. Really quite dreadful.\n",
      "un docmument proche : Back when in the States, I was like about 7 or 8, I always woke early, just to watch this, together with a whole bunch of other cartoons like HootKloot, The Road Runner Show, The Pink Panther. But this was perhaps one of the most memorable and funny animated works out there, and I still find it very funny today, I'll never forget the episodes, like the one where two aardvarks were fighting over the can of chocolate ant pudding? or the one where the aardvark is trying to reach the island where all the ants are at, and my personal favorite, the one where the ant, the aardvark and a dog end up in an animal hospital, which would later be the basis of a similar Looney Toon cartoon with Sylvester, Tweety and the bulldog. This is one of the most unforgettable cartoons out there in which anyone would love to revisit, I would. An excellent series.\n",
      "un docmument proche : I remember watching this movie when I was young, but could not recall the title to it then going through horror movies I find it and think to myself \"that is the title?\" This movie is a kind of combination disaster film/insect attack film with fewer notable stars in it. It is also somewhat boring too, as it has that television vibe to it where you can see the movie fade out for commercials and such. The plot has this sort of resort being invaded by ants. I think they were a bit disturbed by construction or something going on nearby, but do not quote me on that. The most memorable ant attack for me in the whole flick was the first one involving the kid who falls into the swimming pool after being swarmed and of course Summers attack scene too. What else stands out in this one is the very goofy ending where the survivors use cardboard tubes to breath through. In the end though like most television movies this movie is very tame and not very scary in the least unless you panic at the sight of ants.\n",
      "un docmument proche : I wasted 5 dollars renting this complete piece of crap. Dr. Zack is the most unlovable lead character i have ever seen. The movie was full of EVERY cliche you could ever think of and contained not a single OUNCE of originality. There was the typical sexism portrayed by rugged foreigners, all the guys had those 'too-proud to take advice' attitudes that are as stale as grandma's christmas fruitcake. The concept and deaths were really cool, but they lose all novelty once the monster is revealed. (read the SPOILER at the end) Nothing else is really revealed though, the ending is the biggest cop-out you've ever seen. I predicted everything before it happened, including who would die and how. The dialogue is lacking, and that's an understatement by far. There's mostly just random yelling, thoughtful staring, and chunky sentences. The actors are just GOD AWFUL! I don't want to talk about this movie anymore, it's making me angry. I just wonder if the director even watched it when it was done.<br /><br />(SPOILER ALERT!!!! SAVE 5 DOLLARS!) the monster is just a bunch of ants that \"evolved\" so now they need bones so they can move around, (nevermind the fact that this serves no evolutionary advantage whatsoever, and that the ants just killed whoever was available, though the movie acts like they kill out of necessity. This movie made me dumber.) The end consists of the lead idiot killing the mother ant (a big blob thing) which destroys all the other ants. Pretty cliche eh? He almost wusses out at the end because of a sudden emotional attachment to the mother-thing that overcomes him. Give me a break.\n",
      "un docmument proche : You can't imagine how I looked forward to King of the Ants. As a massive Gordon fan, I awaited the European premiere with wicked anticipation.especially since I loved Dagon - Gordon's last achievement - so much. King of the Ants premiered here in my country and it was Gordon himself who came to present it. Unfortunately, I couldn't go and congratulate him for it afterwards. King of the Ants is his most uninspired and mediocre film to date. Really, the quality level never surpassed ordinary TV-thriller standards. The plot outline is terribly routine and with the exception of a few poor scenes, the typical Gordon-touch is never recognized. On top of that, the already weak script has more holes than a Swiss bowl of cheese! It involves a young wannabe-crook who's hired to commit a murder. So he does.and of course they're not paying him.and of course he falls in love with the victim's wife.and of course he avenges himself.. Only the sequences in which the guy descents in a spiral of madness are worth a mention and they're the only ones reminding you of the fact you're still watching a Stuart Gordon film. The acting performances are below average with McCenna as the heroic lowlife, George `Norm Peterson' Wendt as the chubby bastard and Kari Wuhrer as the good-hearted sex bomb. Extremely illogical things happen constantly and the dullness of the story becomes irritating very quickly, while the make-up effects aren't enough to even satisfy amateur-horror fans. I read a few other comments on King of the Ants, claiming it's Gordon's best since it finally is a thought-provoking and mature film.Well, if that's the case.I rather stay immature and give Re-Animator another viewing, thank you very much. Oh well, I guess every good director runs out of steam and inspiration eventually.too bad it also overcame Stuart Gordon.\n",
      "un docmument proche : My jaw fell so many times watching this flick, I have bruises. Okay, granted, I really wasn't expecting the quality of, say, The Others or even Thirteen Ghosts (the new one, which was just dreadful and is still head and shoulders above this insanity). Someone else noted the thin characters...I wouldn't call them \"thin\". \"Thin\" implies there might be something to them. How about almost non-existent? In no particular order we have: The Girl Who Will Scream; The American Who Will Figure It All Out; The Macho Guy Who Will Just Bull Through Everything Until He Gets Killed: The Wise Black Man Who Will Die Early; The Extra Guy Who Is There To Die First; The Extra Woman Who Is There To Play Tough. That's it. That's your character list and that is what they are and what they remain from beginning to end. If they were \"thin\" they might, at least, change a little bit from beginning to end. But they don't. Well, okay, the American guy decides he's going to stay with the fieldwork at the end and the Screaming Girl goes back to wherever she came from. That's the change. Other than that, they all act according to their assigned roles and rarely betray any real emotion when they finally meet up with the menace.<br /><br />Now, the producers get props for an original menace, I will say. I had understood the story was going to be \"Tremors\" but with ants instead of giant worms. I give the writer credit: these are very cool, very scary ants and what they do with bones is excellent. (The first time the \"bone snatcher\" appear, I admit I jumped a few feet.)Unfortunately, the very cool concept becomes Alien in the Desert very quickly. We get a lot of commentary on ants that may or may not be true, but we don't get much of the mythology on which the menace is based. And we get every monster movie cliché ever made. People go into places they know they shouldn't and when they have no compelling reason to. Moronic characters try to hinder our heroes and die for it. One character does double duty as \"scientist who doesn't want to kill the monster but study it\". A Very Cool Gadget is introduced only so the American can tell everyone something about ants that, gee, I hope everyone knows anyway. Then the gadget is broken. Our heroes run out of the one thing that can keep the menace at bay. And then there is that final, annoying moment when we know the menace is still with us--and wonder exactly what and how the hey the hero or heroine came by it. It completely renders everything that went before as useless and false.<br /><br />Three stars for the cool use of ants and bones. Nothing at all for clichés, clunky dialogue and dim bulb characters.\n",
      "un docmument proche : Such a joyous world has been created for us in Pixar's A Bug's Life; we're immersed in a universe which could only be documented this enjoyably on film, but more precisely a universe which could only be documented through the world of animation. For those who have forgotten what a plentiful and exuberant world animation can offer  when it's in the right hands that is  A Bug's Life is a warm reminder. We walk out of the film with an equally-warm feeling, and a sense of satisfaction derivative of only high-calibre film productions.<br /><br />It is only Pixar's second animated feature. The sub-group of Disney made their spectacular debut and perhaps entirely inadvertent mark on the film world three years prior in 1995, with their landmark movie Toy Story. It was a movie which defied convention, re-invented and breathed new life into animation and defined a whole new level of excellence. Now, they return with their sophomore effort which, to be honest, draws a creeping sense of cynicism in us all prior to seeing the film.<br /><br />After all, it's a film about ants. Well, all walks of the insect and bug world are covered in A Bug's Life, but it is the ant which is the focal point in this film, as humans are the focal point in dramas, romances and so on. How can such an insignificant species of animal such as an ant act as the protagonist of a movie, let alone provide the entire premise of a feature film? Surely they jest. However, we forget that in Toy Story, a bunch of toy-box items were able to become the grandest, most inspiring and lovable bunch of animated heroes and villains ever concocted. The guys at Pixar manage to pull off the same feat, and manage to turn a bunch of dirty and miniscule bugs into the most endearing and pleasant gang of vermin you'll probably ever encounter.<br /><br />Not only are they all entirely amiable and likable  there isn't an unpleasant character in sight; even the villains are riveting characters  but they're colourful, they're eclectic, and they're idiosyncratic. And the array of characters is also gargantuan for lack of a better term, only adding the rich layers of distinctiveness already plastered onto A Bug's Life from the beginning. We shall start with our main character, and our hero. His name is Flik (David Foley), and his character is rather generic to say the least. Out of the thousands of faithful and obedient worker ants residing on the lush, beautiful Ant Island, he is the one considered the 'black sheep' of the clan, as seen in the opening moments of the movie when he inadvertently destroys the season's harvest with his antics.<br /><br />The problem arises in the fact that the ants' harvest is for a bunch of greedy grasshoppers led by Hopper (Kevin Spacey), who are eager to continue to assert their wrath and autocracy amongst the puny little ants; when they show up to Ant Island for their annual banquet and see that their offering is gone, they go insane, for lack of a better term. Hopper offers a proposition to save the ants from total extinction at his pack's hands; however, it's a negotiation which is simply impossible to fulfil. The cogs and clockwork in Flik's mind run at full steam now despite his guilt and shame, and he offers to leave Ant Island in search of some mighty bug warriors who can come to the colony's rescue and fight off Hopper and the grasshoppers.<br /><br />If you think about it, A Bug's Life bears some heavy resemblance to the plot line's of Akira Kurosawa's classic Seven Samurai, or the American remake The Magnificent Seven, in which a village of hapless but good-hearted folk are threatened by malevolent and wicked enemies  one lone village-dweller goes in search for help in the big city, finds it and returns to the colony to drive off evil. In A Bug's Life, the help comes in the form of a down-and-out circus troupe who is mistakenly perceived by Flik as warriors in a bar-room brawl.<br /><br />Much amusement comes out of these scenes, and much amusement comes out of these circus troupe bugs. Among them are an erudite stick insect (David Hyde Pierce), a side-splitting obese German caterpillar by the name of Heimlich and a quasi-femme fatale ladybug who's in fact a gritty and masculine ladybug (Dennis Hopper). It's exceedingly enjoyable watching these bugs on-screen, as it is watching the bugs and the insects interact on-screen, as is the entire movie collectively.<br /><br />As I've said, much amusement and mirth comes out of their characters and joyous interactions with one another, which give way to a bevy of hilarious lines, wonderfully suspenseful and riveting situations and overall a dazzling movie. What makes A Bug's Life even better is that the film isn't restricted simply to children as many may perceive it to be, although children would indeed find more entertainment out of this film  the clichéd kid-friendly situations are a bit more abundant than we'd like. However, it's easy to ignore this fault, and it's incredulously easy to enjoy this film.<br /><br />Although A Bug's Life may not reach the dizzying and landmark standards set by its predecessor, this is still a superb movie, and the start of something promising here. Pixar have proved that they're not just a one-hit wonder, but instead a much-gifted and talented group of film artists in Hollywood. They raise the bar endlessly, and when someone always manages to top their standards, it's only always by themselves. What more is there to say about A Bug's Life other than: see it; it's not quite the best which we've seen from the folks at Emeryville, California, but this beats out the lot of its year  and I'll be damned if this isn't the best animated feature of 1998.<br /><br />8.5/10\n"
     ]
    }
   ],
   "source": [
    "from sklearn.metrics.pairwise import cosine_similarity\n",
    "\n",
    "# Un exemple de vecteur\n",
    "print(\"Un exemple d'avis : \", np.array(X_test[\"Avis\"])[0])\n",
    "\n",
    "indice_query=1\n",
    "\n",
    "# QQ affichages : on le refait ensuite (voir query_TFIDF)\n",
    "#vecteur = TfIdf_lemmatise.transform([np.array(X_test[\"Avis\"])[indice_query]]) # ZZ : [] important\n",
    "#print(\"\\nLe vecteur TfIdf : \" , vecteur.toarray())\n",
    "#print(\"\\nLe TfIdf du vecteur : \", vecteur)\n",
    "# ZZ : ci-dessous, les affichages donnent les indices aussi. Seul les réels = TfIdf\n",
    "#print(\"\\nET les indices non nuls de ce vecteur : \", end='')\n",
    "#print(np.nonzero(vecteur.toarray())[1])# Les éléments non nul\n",
    "#print(\"**\", np.nonzero(vecteur)[1])# Les éléments non nul\n",
    "print('---------------')\n",
    "\n",
    "# Pour le cas de l'avis  d'indice indice_query\n",
    "query_TFIDF = TfIdf_lemmatise.transform([np.array(X_test[\"Avis\"])[indice_query]])\n",
    "print(\"\\nTFIDF du query :\", query_TFIDF)\n",
    "\n",
    "cosine_similarities = cosine_similarity(query_TFIDF, train_lemmatise_transformed).flatten()\n",
    "related_product_indices = cosine_similarities.argsort()[:-11:-1]\n",
    "print(\"\\ncosine_similarities entre les 2 phrases :\", cosine_similarities)\n",
    "\n",
    "print(\"\\nelements non. nuls  du consine : \", cosine_similarities[np.nonzero(cosine_similarities)])\n",
    "print(cosine_similarities[np.count_nonzero(cosine_similarities, axis=0)])\n",
    "print(\"\\nLes indices des documents proches du query avec similarité par cosinus p/r à train set:\")\n",
    "print(related_product_indices)\n",
    "\n",
    "words= np.array(X_test[\"Avis\"])[indice_query]\n",
    "print(\"\\nLe query = \", words)\n",
    "\n",
    "# Quelques un des documents proches :\n",
    "print(\"\\nLes documents proches du Query :\", np.array(X_test[\"Avis\"])[indice_query])\n",
    "for ind in related_product_indices :\n",
    "    print(\"un docmument proche :\", X_train.iloc[ind][0])\n",
    "    \n"
   ]
  },
  {
   "cell_type": "markdown",
   "metadata": {},
   "source": [
    "**Rappel des dimensions de notre corpus (train & test)**"
   ]
  },
  {
   "cell_type": "code",
   "execution_count": 31,
   "metadata": {
    "tags": []
   },
   "outputs": [
    {
     "data": {
      "text/plain": [
       "((37500, 18040), (12500, 18040))"
      ]
     },
     "execution_count": 31,
     "metadata": {},
     "output_type": "execute_result"
    }
   ],
   "source": [
    "fit_train=train_lemmatise_transformed\n",
    "fit_test = test_lemmatise_transformed\n",
    "fit_train.shape, fit_test.shape"
   ]
  },
  {
   "cell_type": "markdown",
   "metadata": {},
   "source": [
    "##  2.3- Partie Analyse \n",
    "### 2.3.1- Modèle arbre de décision\n",
    "**Un seul arbre de décision produira des résultats assez médiocres.**"
   ]
  },
  {
   "cell_type": "code",
   "execution_count": 20,
   "metadata": {
    "tags": []
   },
   "outputs": [
    {
     "data": {
      "text/plain": [
       "0.7236"
      ]
     },
     "execution_count": 20,
     "metadata": {},
     "output_type": "execute_result"
    }
   ],
   "source": [
    "from sklearn.tree import DecisionTreeClassifier\n",
    "dt = DecisionTreeClassifier()\n",
    "dt.fit(fit_train, y_train)\n",
    "dt.score(fit_test, y_test)"
   ]
  },
  {
   "cell_type": "markdown",
   "metadata": {},
   "source": [
    "**Le score est assez __médicore__; ce sera une base de comparaison.**"
   ]
  },
  {
   "cell_type": "markdown",
   "metadata": {},
   "source": [
    "### 2.3.2- Modèle Random Forest"
   ]
  },
  {
   "cell_type": "code",
   "execution_count": 21,
   "metadata": {
    "tags": []
   },
   "outputs": [
    {
     "data": {
      "text/html": [
       "<style>#sk-container-id-1 {color: black;background-color: white;}#sk-container-id-1 pre{padding: 0;}#sk-container-id-1 div.sk-toggleable {background-color: white;}#sk-container-id-1 label.sk-toggleable__label {cursor: pointer;display: block;width: 100%;margin-bottom: 0;padding: 0.3em;box-sizing: border-box;text-align: center;}#sk-container-id-1 label.sk-toggleable__label-arrow:before {content: \"▸\";float: left;margin-right: 0.25em;color: #696969;}#sk-container-id-1 label.sk-toggleable__label-arrow:hover:before {color: black;}#sk-container-id-1 div.sk-estimator:hover label.sk-toggleable__label-arrow:before {color: black;}#sk-container-id-1 div.sk-toggleable__content {max-height: 0;max-width: 0;overflow: hidden;text-align: left;background-color: #f0f8ff;}#sk-container-id-1 div.sk-toggleable__content pre {margin: 0.2em;color: black;border-radius: 0.25em;background-color: #f0f8ff;}#sk-container-id-1 input.sk-toggleable__control:checked~div.sk-toggleable__content {max-height: 200px;max-width: 100%;overflow: auto;}#sk-container-id-1 input.sk-toggleable__control:checked~label.sk-toggleable__label-arrow:before {content: \"▾\";}#sk-container-id-1 div.sk-estimator input.sk-toggleable__control:checked~label.sk-toggleable__label {background-color: #d4ebff;}#sk-container-id-1 div.sk-label input.sk-toggleable__control:checked~label.sk-toggleable__label {background-color: #d4ebff;}#sk-container-id-1 input.sk-hidden--visually {border: 0;clip: rect(1px 1px 1px 1px);clip: rect(1px, 1px, 1px, 1px);height: 1px;margin: -1px;overflow: hidden;padding: 0;position: absolute;width: 1px;}#sk-container-id-1 div.sk-estimator {font-family: monospace;background-color: #f0f8ff;border: 1px dotted black;border-radius: 0.25em;box-sizing: border-box;margin-bottom: 0.5em;}#sk-container-id-1 div.sk-estimator:hover {background-color: #d4ebff;}#sk-container-id-1 div.sk-parallel-item::after {content: \"\";width: 100%;border-bottom: 1px solid gray;flex-grow: 1;}#sk-container-id-1 div.sk-label:hover label.sk-toggleable__label {background-color: #d4ebff;}#sk-container-id-1 div.sk-serial::before {content: \"\";position: absolute;border-left: 1px solid gray;box-sizing: border-box;top: 0;bottom: 0;left: 50%;z-index: 0;}#sk-container-id-1 div.sk-serial {display: flex;flex-direction: column;align-items: center;background-color: white;padding-right: 0.2em;padding-left: 0.2em;position: relative;}#sk-container-id-1 div.sk-item {position: relative;z-index: 1;}#sk-container-id-1 div.sk-parallel {display: flex;align-items: stretch;justify-content: center;background-color: white;position: relative;}#sk-container-id-1 div.sk-item::before, #sk-container-id-1 div.sk-parallel-item::before {content: \"\";position: absolute;border-left: 1px solid gray;box-sizing: border-box;top: 0;bottom: 0;left: 50%;z-index: -1;}#sk-container-id-1 div.sk-parallel-item {display: flex;flex-direction: column;z-index: 1;position: relative;background-color: white;}#sk-container-id-1 div.sk-parallel-item:first-child::after {align-self: flex-end;width: 50%;}#sk-container-id-1 div.sk-parallel-item:last-child::after {align-self: flex-start;width: 50%;}#sk-container-id-1 div.sk-parallel-item:only-child::after {width: 0;}#sk-container-id-1 div.sk-dashed-wrapped {border: 1px dashed gray;margin: 0 0.4em 0.5em 0.4em;box-sizing: border-box;padding-bottom: 0.4em;background-color: white;}#sk-container-id-1 div.sk-label label {font-family: monospace;font-weight: bold;display: inline-block;line-height: 1.2em;}#sk-container-id-1 div.sk-label-container {text-align: center;}#sk-container-id-1 div.sk-container {/* jupyter's `normalize.less` sets `[hidden] { display: none; }` but bootstrap.min.css set `[hidden] { display: none !important; }` so we also need the `!important` here to be able to override the default hidden behavior on the sphinx rendered scikit-learn.org. See: https://github.com/scikit-learn/scikit-learn/issues/21755 */display: inline-block !important;position: relative;}#sk-container-id-1 div.sk-text-repr-fallback {display: none;}</style><div id=\"sk-container-id-1\" class=\"sk-top-container\"><div class=\"sk-text-repr-fallback\"><pre>RandomForestClassifier(n_estimators=50)</pre><b>In a Jupyter environment, please rerun this cell to show the HTML representation or trust the notebook. <br />On GitHub, the HTML representation is unable to render, please try loading this page with nbviewer.org.</b></div><div class=\"sk-container\" hidden><div class=\"sk-item\"><div class=\"sk-estimator sk-toggleable\"><input class=\"sk-toggleable__control sk-hidden--visually\" id=\"sk-estimator-id-1\" type=\"checkbox\" checked><label for=\"sk-estimator-id-1\" class=\"sk-toggleable__label sk-toggleable__label-arrow\">RandomForestClassifier</label><div class=\"sk-toggleable__content\"><pre>RandomForestClassifier(n_estimators=50)</pre></div></div></div></div></div>"
      ],
      "text/plain": [
       "RandomForestClassifier(n_estimators=50)"
      ]
     },
     "execution_count": 21,
     "metadata": {},
     "output_type": "execute_result"
    }
   ],
   "source": [
    "from sklearn.ensemble import RandomForestClassifier\n",
    "clf = RandomForestClassifier(n_estimators=50)\n",
    "clf.fit(fit_train, y_train)"
   ]
  },
  {
   "cell_type": "code",
   "execution_count": 22,
   "metadata": {
    "tags": []
   },
   "outputs": [
    {
     "data": {
      "text/plain": [
       "0.83688"
      ]
     },
     "execution_count": 22,
     "metadata": {},
     "output_type": "execute_result"
    }
   ],
   "source": [
    "clf.score(fit_test, y_test)"
   ]
  },
  {
   "cell_type": "markdown",
   "metadata": {},
   "source": [
    "<font color=\"red\"> **Le score s'est un peu amélioré.**</font>"
   ]
  },
  {
   "cell_type": "markdown",
   "metadata": {},
   "source": [
    "#### 2.3.2.1- D'autres métriques d'évaluation"
   ]
  },
  {
   "cell_type": "code",
   "execution_count": 23,
   "metadata": {
    "tags": []
   },
   "outputs": [
    {
     "name": "stdout",
     "output_type": "stream",
     "text": [
      "score_t=array([[0.42, 0.58],\n",
      "       [0.76, 0.24],\n",
      "       [0.4 , 0.6 ],\n",
      "       ...,\n",
      "       [0.44, 0.56],\n",
      "       [0.2 , 0.8 ],\n",
      "       [0.74, 0.26]])\n",
      "score_a=array([[0.92, 0.08],\n",
      "       [0.76, 0.24],\n",
      "       [0.92, 0.08],\n",
      "       ...,\n",
      "       [0.88, 0.12],\n",
      "       [0.04, 0.96],\n",
      "       [0.1 , 0.9 ]])\n"
     ]
    }
   ],
   "source": [
    "from sklearn.metrics import roc_auc_score, roc_curve, auc\n",
    "score_t = clf.predict_proba(fit_test)\n",
    "score_a = clf.predict_proba(fit_train)\n",
    "print(f\"{score_t=}\")\n",
    "print(f\"{score_a=}\")\n"
   ]
  },
  {
   "cell_type": "markdown",
   "metadata": {},
   "source": [
    "#### 2.3.2.2 Courbe ROC"
   ]
  },
  {
   "cell_type": "code",
   "execution_count": 25,
   "metadata": {
    "tags": []
   },
   "outputs": [],
   "source": [
    "fpr_t, tpr_t, seuil_t = roc_curve(y_test, score_t[:, 1], pos_label='positive')\n",
    "fpr_a, tpr_a, seuil_a = roc_curve(y_train, score_a[:, 1], pos_label='positive')"
   ]
  },
  {
   "cell_type": "code",
   "execution_count": 26,
   "metadata": {
    "tags": []
   },
   "outputs": [],
   "source": [
    "%matplotlib inline"
   ]
  },
  {
   "cell_type": "code",
   "execution_count": 27,
   "metadata": {
    "tags": []
   },
   "outputs": [
    {
     "name": "stdout",
     "output_type": "stream",
     "text": [
      "Remarquer l'AUC\n",
      "\n"
     ]
    },
    {
     "data": {
      "image/png": "[encoded data removed]",
      "text/plain": [
       "<Figure size 400x400 with 1 Axes>"
      ]
     },
     "metadata": {},
     "output_type": "display_data"
    }
   ],
   "source": [
    "import matplotlib.pyplot as plt\n",
    "if True :\n",
    "    fig, ax = plt.subplots(1, 1, figsize=(4,4))\n",
    "    ax.plot([0, 1], [0, 1], 'k--')\n",
    "    aucf_t = auc(fpr_t, tpr_t)\n",
    "    ax.plot(fpr_t, tpr_t, label='auc=%1.5f' % aucf_t)\n",
    "    ax.set_title('Courbe ROC - classifieur de Polarités du test')\n",
    "    ax.legend();\n",
    "    \n",
    "print(\"Remarquer l'AUC\\n\")"
   ]
  },
  {
   "cell_type": "markdown",
   "metadata": {},
   "source": [
    "#### 2.3.2.3 Comparaison des ROC du train et du test"
   ]
  },
  {
   "cell_type": "code",
   "execution_count": 28,
   "metadata": {
    "tags": []
   },
   "outputs": [
    {
     "data": {
      "text/plain": [
       "('Les AUCs train/test:', 0.9999999985777492, 0.9140867531809393)"
      ]
     },
     "execution_count": 28,
     "metadata": {},
     "output_type": "execute_result"
    },
    {
     "data": {
      "image/png": "[encoded data removed]",
      "text/plain": [
       "<Figure size 800x400 with 2 Axes>"
      ]
     },
     "metadata": {},
     "output_type": "display_data"
    }
   ],
   "source": [
    "import matplotlib.pyplot as plt\n",
    "\n",
    "aucf_t = auc(fpr_t, tpr_t)\n",
    "aucf_a = auc(fpr_a, tpr_a)\n",
    "fig, axs = plt.subplots(1, 2, figsize=(8,4))\n",
    "\n",
    "axs[0].plot(fpr_a, tpr_a, label='auc=%1.5f' % aucf_t)\n",
    "axs[0].set_title('Courbe ROC - Apprentissage')\n",
    "axs[1].plot(fpr_t, tpr_t, label='auc=%1.5f' % aucf_a)\n",
    "axs[1].set_title('Courbe ROC - TEST')\n",
    "\n",
    "fig.suptitle('RendomForest :  Courbe ROC du classifieur de Polarités des données')\n",
    "(\"Les AUCs train/test:\", aucf_a, aucf_t)"
   ]
  },
  {
   "cell_type": "markdown",
   "metadata": {},
   "source": [
    "# 3. A propose des classifieurs en Text Mining (espace vectoriel) appliqués sur cette DB."
   ]
  },
  {
   "cell_type": "markdown",
   "metadata": {},
   "source": [
    "## 3.1-__modèle linéaire__ "
   ]
  },
  {
   "cell_type": "markdown",
   "metadata": {},
   "source": [
    "Essayons d'abord avec un __modèle linéaire__ (__logit__)."
   ]
  },
  {
   "cell_type": "code",
   "execution_count": 30,
   "metadata": {
    "tags": []
   },
   "outputs": [
    {
     "name": "stderr",
     "output_type": "stream",
     "text": [
      "c:\\Users\\Amaury\\.conda\\envs\\deeplearning\\Lib\\site-packages\\sklearn\\linear_model\\_logistic.py:458: ConvergenceWarning: lbfgs failed to converge (status=1):\n",
      "STOP: TOTAL NO. of ITERATIONS REACHED LIMIT.\n",
      "\n",
      "Increase the number of iterations (max_iter) or scale the data as shown in:\n",
      "    https://scikit-learn.org/stable/modules/preprocessing.html\n",
      "Please also refer to the documentation for alternative solver options:\n",
      "    https://scikit-learn.org/stable/modules/linear_model.html#logistic-regression\n",
      "  n_iter_i = _check_optimize_result(\n"
     ]
    },
    {
     "data": {
      "text/plain": [
       "0.83176"
      ]
     },
     "execution_count": 30,
     "metadata": {},
     "output_type": "execute_result"
    }
   ],
   "source": [
    "from sklearn.linear_model import LogisticRegression\n",
    "lr = LogisticRegression(solver='lbfgs')\n",
    "lr.fit(fit_train, y_train)\n",
    "lr.score(fit_test, y_test)"
   ]
  },
  {
   "cell_type": "markdown",
   "metadata": {},
   "source": [
    "**On constate que le score est similaire au random forest.**"
   ]
  },
  {
   "cell_type": "markdown",
   "metadata": {},
   "source": [
    "## 3.2- Multinomial Bayesian (MNB)"
   ]
  },
  {
   "cell_type": "code",
   "execution_count": 31,
   "metadata": {
    "tags": []
   },
   "outputs": [
    {
     "data": {
      "text/plain": [
       "0.83776"
      ]
     },
     "execution_count": 31,
     "metadata": {},
     "output_type": "execute_result"
    }
   ],
   "source": [
    "from sklearn.naive_bayes import MultinomialNB\n",
    "mnb = MultinomialNB()\n",
    "mnb.fit(fit_train, y_train)\n",
    "mnb.score(fit_test, y_test)"
   ]
  },
  {
   "cell_type": "markdown",
   "metadata": {},
   "source": [
    "**On obtient encore un bon score**"
   ]
  },
  {
   "cell_type": "markdown",
   "metadata": {},
   "source": [
    "## 3.3- Retour au RandomForest\n",
    "* Si on augmente la profondeur de l'arbre, la forêt aléatoire peut __parfois__ être plus performante."
   ]
  },
  {
   "cell_type": "code",
   "execution_count": 32,
   "metadata": {
    "tags": []
   },
   "outputs": [
    {
     "data": {
      "text/plain": [
       "0.83928"
      ]
     },
     "execution_count": 32,
     "metadata": {},
     "output_type": "execute_result"
    }
   ],
   "source": [
    "from sklearn.ensemble import RandomForestClassifier\n",
    "clf20 = RandomForestClassifier(n_estimators=120, max_depth=20)\n",
    "clf20.fit(fit_train, y_train)\n",
    "clf20.score(fit_test, y_test)"
   ]
  },
  {
   "cell_type": "markdown",
   "metadata": {},
   "source": [
    "**Le score obtenu n'est pas tellement mieux que celui du random forest moins profond.**  "
   ]
  },
  {
   "cell_type": "markdown",
   "metadata": {},
   "source": [
    "### 3.3.1 Itération su Random Forest   \n",
    "Essayons d'autre combinaisons des paramètres dans une itération"
   ]
  },
  {
   "cell_type": "code",
   "execution_count": 33,
   "metadata": {
    "tags": []
   },
   "outputs": [
    {
     "name": "stdout",
     "output_type": "stream",
     "text": [
      "clf1,10  : score =  0.6004\n",
      "clf1,30  : score =  0.66536\n",
      "clf1,50  : score =  0.64\n",
      "clf1,70  : score =  0.66624\n",
      "clf1,90  : score =  0.658\n",
      "clf51,10  : score =  0.81712\n",
      "clf51,30  : score =  0.83808\n",
      "clf51,50  : score =  0.8372\n",
      "clf51,70  : score =  0.83576\n",
      "clf51,90  : score =  0.83648\n",
      "clf101,10  : score =  0.82776\n",
      "clf101,30  : score =  0.84112\n",
      "clf101,50  : score =  0.84672\n",
      "clf101,70  : score =  0.84472\n",
      "clf101,90  : score =  0.84672\n",
      "clf151,10  : score =  0.82432\n",
      "clf151,30  : score =  0.8456\n",
      "clf151,50  : score =  0.84784\n",
      "clf151,70  : score =  0.8512\n",
      "clf151,90  : score =  0.84824\n"
     ]
    }
   ],
   "source": [
    "from sklearn.ensemble import RandomForestClassifier\n",
    "clfs=[(\"clf\"+str(N)+','+str(depth), RandomForestClassifier(n_estimators=N, max_depth=depth))  for N in range(1,200,50) for depth in range(10,100,20)]\n",
    "for nom, _clf_ in clfs :\n",
    "    _clf_.fit(fit_train, y_train)\n",
    "    print(nom, ' : score = ', _clf_.score(fit_test, y_test))\n",
    "    "
   ]
  },
  {
   "cell_type": "markdown",
   "metadata": {},
   "source": [
    "**Les dernières combinaisons, possédant plus d'estimations plus profonds, semblent meilleurs. Toutefois, on observe qu'augmenter la profondeur n'implique pas nécessairement un meilleur score.**"
   ]
  },
  {
   "cell_type": "markdown",
   "metadata": {},
   "source": [
    "### 3.3.2 Deux des meilleures combinaisons"
   ]
  },
  {
   "cell_type": "code",
   "execution_count": 34,
   "metadata": {
    "tags": []
   },
   "outputs": [
    {
     "data": {
      "text/plain": [
       "0.84936"
      ]
     },
     "execution_count": 34,
     "metadata": {},
     "output_type": "execute_result"
    }
   ],
   "source": [
    "clf50_ = RandomForestClassifier(n_estimators=150, max_depth=90)\n",
    "clf50_.fit(fit_train, y_train)\n",
    "clf50_.score(fit_test, y_test)"
   ]
  },
  {
   "cell_type": "code",
   "execution_count": 35,
   "metadata": {
    "tags": []
   },
   "outputs": [
    {
     "data": {
      "text/plain": [
       "0.84792"
      ]
     },
     "execution_count": 35,
     "metadata": {},
     "output_type": "execute_result"
    }
   ],
   "source": [
    "clf50_ = RandomForestClassifier(n_estimators=100, max_depth=70)\n",
    "clf50_.fit(fit_train, y_train)\n",
    "clf50_.score(fit_test, y_test)"
   ]
  },
  {
   "cell_type": "markdown",
   "metadata": {},
   "source": [
    "#### 3.3.3.  Et une autre (200 arbres, profondeur max = 100)"
   ]
  },
  {
   "cell_type": "code",
   "execution_count": 36,
   "metadata": {
    "tags": []
   },
   "outputs": [
    {
     "data": {
      "text/plain": [
       "0.85312"
      ]
     },
     "execution_count": 36,
     "metadata": {},
     "output_type": "execute_result"
    }
   ],
   "source": [
    "clf50 = RandomForestClassifier(n_estimators=200, max_depth=100)\n",
    "clf50.fit(fit_train, y_train)\n",
    "clf50.score(fit_test, y_test)"
   ]
  },
  {
   "cell_type": "markdown",
   "metadata": {},
   "source": [
    "**C'est le meilleur modèle jusqu'à présent, mais les progrès sont très faibles.**"
   ]
  },
  {
   "cell_type": "markdown",
   "metadata": {},
   "source": [
    "## 3.4- Gradient Boost\n",
    "\n",
    "### 3.4.1- Regular Gradient Boosting\n",
    "* Un méta-modèle de __gradient boosting__ devrait dépasser les RFs puisque les arbres ne sont plus appris indépendemment les uns des autres."
   ]
  },
  {
   "cell_type": "code",
   "execution_count": 37,
   "metadata": {
    "tags": []
   },
   "outputs": [
    {
     "data": {
      "text/plain": [
       "0.81416"
      ]
     },
     "execution_count": 37,
     "metadata": {},
     "output_type": "execute_result"
    }
   ],
   "source": [
    "from sklearn.ensemble import GradientBoostingClassifier\n",
    "\n",
    "gbc40 = GradientBoostingClassifier(n_estimators=200, max_depth=40)\n",
    "gbc40.fit(fit_train, y_train)\n",
    "gbc40.score(fit_test, y_test)"
   ]
  },
  {
   "cell_type": "markdown",
   "metadata": {},
   "source": [
    "Ce modèle n'a pas réussi à dépasser les Randoms Forests, et est beaucoup plus long à entrainer (environ 2h)."
   ]
  },
  {
   "cell_type": "markdown",
   "metadata": {},
   "source": [
    "### 3.4.2- Extreme Gradient Boosting\n",
    "\n",
    "Pour accélérer l'entrainement, nous pouvons utiliser XGBoost car il est parallélisable."
   ]
  },
  {
   "cell_type": "code",
   "execution_count": 42,
   "metadata": {},
   "outputs": [
    {
     "data": {
      "text/plain": [
       "0.85504"
      ]
     },
     "execution_count": 42,
     "metadata": {},
     "output_type": "execute_result"
    }
   ],
   "source": [
    "import xgboost as xgb\n",
    "\n",
    "# XGBoost a besoin des labels 0 et 1 pour l'entrainement\n",
    "y_train_bis = pd.DataFrame(y_train, columns=['label'])\n",
    "y_test_bis = pd.DataFrame(y_test, columns=['label'])\n",
    "y_train_bis = [1 if label == 'positive' else 0 for label in y_train]\n",
    "y_test_bis = [1 if label == 'positive' else 0 for label in y_test]\n",
    "\n",
    "\n",
    "xgb_model = xgb.XGBClassifier(objective=\"binary:logistic\", n_estimators=200, max_depth=40)\n",
    "xgb_model.fit(fit_train, y_train_bis)\n",
    "xgb_model.score(fit_test, y_test_bis)"
   ]
  },
  {
   "cell_type": "markdown",
   "metadata": {},
   "source": [
    "On obtient notre meilleur modèle jusqu'à présent avec seulement 3min 26s d'entrainement (contre 2h pour GradientBoostingClassifier)."
   ]
  },
  {
   "cell_type": "markdown",
   "metadata": {},
   "source": [
    "## 3.5- SVM linéaire avec la méthode OneVsRestClassifier"
   ]
  },
  {
   "cell_type": "code",
   "execution_count": 43,
   "metadata": {
    "tags": []
   },
   "outputs": [
    {
     "name": "stderr",
     "output_type": "stream",
     "text": [
      "c:\\Users\\Amaury\\.conda\\envs\\deeplearning\\Lib\\site-packages\\sklearn\\svm\\_base.py:1244: ConvergenceWarning: Liblinear failed to converge, increase the number of iterations.\n",
      "  warnings.warn(\n"
     ]
    },
    {
     "data": {
      "text/plain": [
       "0.80736"
      ]
     },
     "execution_count": 43,
     "metadata": {},
     "output_type": "execute_result"
    }
   ],
   "source": [
    "from sklearn.multiclass import OneVsRestClassifier\n",
    "from sklearn.svm import LinearSVC\n",
    "modele_one_vs_linear_SVC= OneVsRestClassifier(LinearSVC())\n",
    "modele_one_vs_linear_SVC.fit(fit_train, y_train)\n",
    "modele_one_vs_linear_SVC.score(fit_test, y_test)"
   ]
  },
  {
   "cell_type": "markdown",
   "metadata": {},
   "source": [
    "**On constate que SVM se comporte (comme souvent) bien, mais les résultats restent inférieurs à ceux des forests.**"
   ]
  },
  {
   "cell_type": "markdown",
   "metadata": {},
   "source": [
    "## 3.6- Classifieur SVM avec la méthode OneVsRestClassifier\n",
    "\n",
    "Même chose mais on utilise la méthode SVM (pour la classification : SVC)\n"
   ]
  },
  {
   "cell_type": "code",
   "execution_count": 32,
   "metadata": {
    "tags": []
   },
   "outputs": [
    {
     "data": {
      "text/plain": [
       "0.87016"
      ]
     },
     "execution_count": 32,
     "metadata": {},
     "output_type": "execute_result"
    }
   ],
   "source": [
    "from sklearn.svm import SVC\n",
    "modele_one_vs_SVC = OneVsRestClassifier(SVC())\n",
    "modele_one_vs_SVC.fit(fit_train, y_train)\n",
    "modele_one_vs_SVC.score(fit_test, y_test)"
   ]
  },
  {
   "cell_type": "markdown",
   "metadata": {},
   "source": [
    "**Cette méthode donne ainsi des meilleurs résultats que toutes les méthoes étudiées précédemment.**"
   ]
  },
  {
   "cell_type": "markdown",
   "metadata": {},
   "source": [
    "# 4- Les n-grammes\n",
    "L'approche Bag of Word (matrices Tf, TfIdf)  ci-dessus ne tient pas compte ni du contexte, ni de l'ordre des mots. Chaque phrase est convertie en un sac de mots (ou bag of words). \n",
    "\n",
    "On va désormais tenir compte de séquences plus ou moins longues à l'aide des __n-grams__."
   ]
  },
  {
   "cell_type": "markdown",
   "metadata": {},
   "source": [
    "## 4.1- Utilisation du bi-gram     \n"
   ]
  },
  {
   "cell_type": "markdown",
   "metadata": {},
   "source": [
    "**On applique le principe de bi-gramme avec scikit-learn.**\n",
    "\n",
    "**On lémmatise, puis TfIdf sur les bi-grammes**\n",
    "\n",
    "### 4.1.1- Appliqué aux données de base."
   ]
  },
  {
   "cell_type": "code",
   "execution_count": 18,
   "metadata": {
    "tags": []
   },
   "outputs": [],
   "source": [
    "from sklearn.pipeline import make_pipeline\n",
    "from sklearn.feature_extraction.text import TfidfTransformer\n",
    "\n",
    "pipe2 = make_pipeline(CountVectorizer(ngram_range=(1, 2)), TfidfTransformer())\n",
    "pipe2.fit(X_train['Avis'])\n",
    "fit_train2 = pipe2.transform(X_train['Avis'])\n",
    "fit_test2 = pipe2.transform(X_test['Avis'])"
   ]
  },
  {
   "cell_type": "markdown",
   "metadata": {},
   "source": [
    "### 4.1.2- Appliqué aux données lemmatisées\n",
    "\n",
    "Appliqué aux données lemmatisées. (si Warning, lancez une 2e fois)     \n",
    "Si Warning, relancer !"
   ]
  },
  {
   "cell_type": "code",
   "execution_count": 36,
   "metadata": {
    "tags": []
   },
   "outputs": [
    {
     "name": "stderr",
     "output_type": "stream",
     "text": [
      "c:\\Users\\Amaury\\.conda\\envs\\deeplearning\\Lib\\site-packages\\sklearn\\feature_extraction\\text.py:528: UserWarning: The parameter 'token_pattern' will not be used since 'tokenizer' is not None'\n",
      "  warnings.warn(\n",
      "c:\\Users\\Amaury\\.conda\\envs\\deeplearning\\Lib\\site-packages\\sklearn\\feature_extraction\\text.py:409: UserWarning: Your stop_words may be inconsistent with your preprocessing. Tokenizing the stop words generated tokens ['acros', 'afterward', 'alway', 'anythe', 'everythe', 'hundr', 'indee', 'les', 'make', 'nevertheles', 'nothe', 'perhap', 'seriou', 'somethe', 'thu', 'u', 'wherea'] not in stop_words.\n",
      "  warnings.warn(\n"
     ]
    }
   ],
   "source": [
    "count_vec_lemmatise = CountVectorizer(tokenizer=lemma, stop_words=\"english\", analyzer='word', \n",
    "                            ngram_range=(1, 2), max_df=1.0, min_df=1, max_features=None)\n",
    "pipe2_bis = make_pipeline(CountVectorizer(tokenizer=LemmaTokenizer(), stop_words=\"english\", analyzer='word', \n",
    "                            ngram_range=(1, 2), max_df=1.0, min_df=1, max_features=None), TfidfTransformer())\n",
    "pipe2_bis.fit(X_train['Avis'])\n",
    "fit_train2_bis = pipe2_bis.transform(X_train['Avis'])\n",
    "fit_test2_bis = pipe2_bis.transform(X_test['Avis'])"
   ]
  },
  {
   "cell_type": "markdown",
   "metadata": {},
   "source": [
    "## 4.2 - Application de la méthode Logit aux bi-grammes\n",
    "\n",
    "### 4.2.1 - Données de base"
   ]
  },
  {
   "cell_type": "code",
   "execution_count": 37,
   "metadata": {
    "tags": []
   },
   "outputs": [],
   "source": [
    "from sklearn.linear_model import LogisticRegression\n",
    "clf2 = LogisticRegression(solver='lbfgs')\n"
   ]
  },
  {
   "cell_type": "markdown",
   "metadata": {},
   "source": [
    "**Et on 'fit'**"
   ]
  },
  {
   "cell_type": "code",
   "execution_count": 38,
   "metadata": {
    "tags": []
   },
   "outputs": [
    {
     "data": {
      "text/html": [
       "<style>#sk-container-id-1 {color: black;background-color: white;}#sk-container-id-1 pre{padding: 0;}#sk-container-id-1 div.sk-toggleable {background-color: white;}#sk-container-id-1 label.sk-toggleable__label {cursor: pointer;display: block;width: 100%;margin-bottom: 0;padding: 0.3em;box-sizing: border-box;text-align: center;}#sk-container-id-1 label.sk-toggleable__label-arrow:before {content: \"▸\";float: left;margin-right: 0.25em;color: #696969;}#sk-container-id-1 label.sk-toggleable__label-arrow:hover:before {color: black;}#sk-container-id-1 div.sk-estimator:hover label.sk-toggleable__label-arrow:before {color: black;}#sk-container-id-1 div.sk-toggleable__content {max-height: 0;max-width: 0;overflow: hidden;text-align: left;background-color: #f0f8ff;}#sk-container-id-1 div.sk-toggleable__content pre {margin: 0.2em;color: black;border-radius: 0.25em;background-color: #f0f8ff;}#sk-container-id-1 input.sk-toggleable__control:checked~div.sk-toggleable__content {max-height: 200px;max-width: 100%;overflow: auto;}#sk-container-id-1 input.sk-toggleable__control:checked~label.sk-toggleable__label-arrow:before {content: \"▾\";}#sk-container-id-1 div.sk-estimator input.sk-toggleable__control:checked~label.sk-toggleable__label {background-color: #d4ebff;}#sk-container-id-1 div.sk-label input.sk-toggleable__control:checked~label.sk-toggleable__label {background-color: #d4ebff;}#sk-container-id-1 input.sk-hidden--visually {border: 0;clip: rect(1px 1px 1px 1px);clip: rect(1px, 1px, 1px, 1px);height: 1px;margin: -1px;overflow: hidden;padding: 0;position: absolute;width: 1px;}#sk-container-id-1 div.sk-estimator {font-family: monospace;background-color: #f0f8ff;border: 1px dotted black;border-radius: 0.25em;box-sizing: border-box;margin-bottom: 0.5em;}#sk-container-id-1 div.sk-estimator:hover {background-color: #d4ebff;}#sk-container-id-1 div.sk-parallel-item::after {content: \"\";width: 100%;border-bottom: 1px solid gray;flex-grow: 1;}#sk-container-id-1 div.sk-label:hover label.sk-toggleable__label {background-color: #d4ebff;}#sk-container-id-1 div.sk-serial::before {content: \"\";position: absolute;border-left: 1px solid gray;box-sizing: border-box;top: 0;bottom: 0;left: 50%;z-index: 0;}#sk-container-id-1 div.sk-serial {display: flex;flex-direction: column;align-items: center;background-color: white;padding-right: 0.2em;padding-left: 0.2em;position: relative;}#sk-container-id-1 div.sk-item {position: relative;z-index: 1;}#sk-container-id-1 div.sk-parallel {display: flex;align-items: stretch;justify-content: center;background-color: white;position: relative;}#sk-container-id-1 div.sk-item::before, #sk-container-id-1 div.sk-parallel-item::before {content: \"\";position: absolute;border-left: 1px solid gray;box-sizing: border-box;top: 0;bottom: 0;left: 50%;z-index: -1;}#sk-container-id-1 div.sk-parallel-item {display: flex;flex-direction: column;z-index: 1;position: relative;background-color: white;}#sk-container-id-1 div.sk-parallel-item:first-child::after {align-self: flex-end;width: 50%;}#sk-container-id-1 div.sk-parallel-item:last-child::after {align-self: flex-start;width: 50%;}#sk-container-id-1 div.sk-parallel-item:only-child::after {width: 0;}#sk-container-id-1 div.sk-dashed-wrapped {border: 1px dashed gray;margin: 0 0.4em 0.5em 0.4em;box-sizing: border-box;padding-bottom: 0.4em;background-color: white;}#sk-container-id-1 div.sk-label label {font-family: monospace;font-weight: bold;display: inline-block;line-height: 1.2em;}#sk-container-id-1 div.sk-label-container {text-align: center;}#sk-container-id-1 div.sk-container {/* jupyter's `normalize.less` sets `[hidden] { display: none; }` but bootstrap.min.css set `[hidden] { display: none !important; }` so we also need the `!important` here to be able to override the default hidden behavior on the sphinx rendered scikit-learn.org. See: https://github.com/scikit-learn/scikit-learn/issues/21755 */display: inline-block !important;position: relative;}#sk-container-id-1 div.sk-text-repr-fallback {display: none;}</style><div id=\"sk-container-id-1\" class=\"sk-top-container\"><div class=\"sk-text-repr-fallback\"><pre>LogisticRegression()</pre><b>In a Jupyter environment, please rerun this cell to show the HTML representation or trust the notebook. <br />On GitHub, the HTML representation is unable to render, please try loading this page with nbviewer.org.</b></div><div class=\"sk-container\" hidden><div class=\"sk-item\"><div class=\"sk-estimator sk-toggleable\"><input class=\"sk-toggleable__control sk-hidden--visually\" id=\"sk-estimator-id-1\" type=\"checkbox\" checked><label for=\"sk-estimator-id-1\" class=\"sk-toggleable__label sk-toggleable__label-arrow\">LogisticRegression</label><div class=\"sk-toggleable__content\"><pre>LogisticRegression()</pre></div></div></div></div></div>"
      ],
      "text/plain": [
       "LogisticRegression()"
      ]
     },
     "execution_count": 38,
     "metadata": {},
     "output_type": "execute_result"
    }
   ],
   "source": [
    "clf2.fit(fit_train2, y_train)"
   ]
  },
  {
   "cell_type": "markdown",
   "metadata": {
    "tags": []
   },
   "source": [
    "Et on calcule le score"
   ]
  },
  {
   "cell_type": "code",
   "execution_count": 39,
   "metadata": {
    "tags": []
   },
   "outputs": [
    {
     "data": {
      "text/plain": [
       "0.90056"
      ]
     },
     "execution_count": 39,
     "metadata": {},
     "output_type": "execute_result"
    }
   ],
   "source": [
    "clf2.score(fit_test2, y_test)"
   ]
  },
  {
   "cell_type": "markdown",
   "metadata": {},
   "source": [
    "**L'utilisation des bi-grammes améliore les résultats de façon significative, qui plus est en un temps d'entrainement beaucoup plus faible (environ 1 min).**"
   ]
  },
  {
   "cell_type": "markdown",
   "metadata": {},
   "source": [
    "### 4.2.2-  Données lemmatisées"
   ]
  },
  {
   "cell_type": "code",
   "execution_count": 40,
   "metadata": {
    "tags": []
   },
   "outputs": [],
   "source": [
    "from sklearn.linear_model import LogisticRegression\n",
    "clf2_bis = LogisticRegression(solver='lbfgs')"
   ]
  },
  {
   "cell_type": "markdown",
   "metadata": {},
   "source": [
    "**Et on 'fit'**"
   ]
  },
  {
   "cell_type": "code",
   "execution_count": 41,
   "metadata": {
    "tags": []
   },
   "outputs": [
    {
     "name": "stdout",
     "output_type": "stream",
     "text": [
      "LogisticRegression()\n"
     ]
    }
   ],
   "source": [
    "print(clf2_bis.fit(fit_train2_bis, y_train))"
   ]
  },
  {
   "cell_type": "markdown",
   "metadata": {},
   "source": [
    "ET on calcule le score "
   ]
  },
  {
   "cell_type": "code",
   "execution_count": 42,
   "metadata": {
    "tags": []
   },
   "outputs": [
    {
     "name": "stdout",
     "output_type": "stream",
     "text": [
      "0.88\n"
     ]
    }
   ],
   "source": [
    "print(clf2_bis.score(fit_test2_bis, y_test))"
   ]
  },
  {
   "cell_type": "markdown",
   "metadata": {},
   "source": [
    "Les résultats restent bons, mais la lemmatisation des données ne parait pas donner d'avantage lors de l'entrainement du modèle. On se limitera donc aux données de base par la suite."
   ]
  },
  {
   "cell_type": "markdown",
   "metadata": {},
   "source": [
    "## 4.3- Cross-validation\n"
   ]
  },
  {
   "cell_type": "code",
   "execution_count": 46,
   "metadata": {
    "tags": []
   },
   "outputs": [
    {
     "name": "stderr",
     "output_type": "stream",
     "text": [
      "c:\\Users\\Amaury\\.conda\\envs\\deeplearning\\Lib\\site-packages\\sklearn\\linear_model\\_logistic.py:458: ConvergenceWarning: lbfgs failed to converge (status=1):\n",
      "STOP: TOTAL NO. of ITERATIONS REACHED LIMIT.\n",
      "\n",
      "Increase the number of iterations (max_iter) or scale the data as shown in:\n",
      "    https://scikit-learn.org/stable/modules/preprocessing.html\n",
      "Please also refer to the documentation for alternative solver options:\n",
      "    https://scikit-learn.org/stable/modules/linear_model.html#logistic-regression\n",
      "  n_iter_i = _check_optimize_result(\n"
     ]
    },
    {
     "data": {
      "text/plain": [
       "0.918"
      ]
     },
     "execution_count": 46,
     "metadata": {},
     "output_type": "execute_result"
    }
   ],
   "source": [
    "from sklearn.linear_model import LogisticRegressionCV\n",
    "clf2_ = LogisticRegressionCV(cv=5, n_jobs=2, max_iter=200)\n",
    "clf2_.fit(fit_train2, y_train)\n",
    "clf2_.score(fit_test2, y_test)"
   ]
  },
  {
   "cell_type": "markdown",
   "metadata": {},
   "source": [
    "**L'ajout de la cross-validation permet d'améliorer encore plus le score du modèle.**\n",
    "\n",
    "Toutefois, ceci coute beaucoup plus en temps d'entrainement, passant de 1min sans CV à 37 min avec."
   ]
  },
  {
   "cell_type": "markdown",
   "metadata": {},
   "source": [
    "## 4.4-  Application de  MNB (sur les données de base)\n",
    "**D'abord MNB sur les données de de base !**"
   ]
  },
  {
   "cell_type": "code",
   "execution_count": 47,
   "metadata": {
    "tags": []
   },
   "outputs": [
    {
     "data": {
      "text/plain": [
       "0.89408"
      ]
     },
     "execution_count": 47,
     "metadata": {},
     "output_type": "execute_result"
    }
   ],
   "source": [
    "from sklearn.naive_bayes import MultinomialNB\n",
    "mnb = MultinomialNB()\n",
    "mnb.fit(fit_train2, y_train)\n",
    "mnb.score(fit_test2, y_test)"
   ]
  },
  {
   "cell_type": "markdown",
   "metadata": {},
   "source": [
    "Ce score est encourageant, regardons comment nous pouvons améliorer le modèle."
   ]
  },
  {
   "cell_type": "markdown",
   "metadata": {},
   "source": [
    "## 4.5- Réduction de dimension avec une SVD"
   ]
  },
  {
   "cell_type": "markdown",
   "metadata": {},
   "source": [
    "On choisit la méthode TruncatedSVD plutôt que l'ACP dont l'implantation ne supporte pas les features creux(sparses).\n",
    "\n",
    "On applique ensuite la méthode random forest à ce résultat SVD."
   ]
  },
  {
   "cell_type": "code",
   "execution_count": 16,
   "metadata": {
    "tags": []
   },
   "outputs": [],
   "source": [
    "from sklearn.decomposition import TruncatedSVD\n",
    "\n",
    "pipe_svd = make_pipeline(CountVectorizer(), TruncatedSVD(n_components=300))\n",
    "pipe_svd.fit(X_train['Avis'])\n",
    "fit_train_svd = pipe_svd.transform(X_train['Avis'])"
   ]
  },
  {
   "cell_type": "markdown",
   "metadata": {},
   "source": [
    "### 4.5.1-  Application du  RF à ce résultat SVD"
   ]
  },
  {
   "cell_type": "code",
   "execution_count": 17,
   "metadata": {
    "tags": []
   },
   "outputs": [
    {
     "data": {
      "text/plain": [
       "0.70168"
      ]
     },
     "execution_count": 17,
     "metadata": {},
     "output_type": "execute_result"
    }
   ],
   "source": [
    "from sklearn.ensemble import RandomForestClassifier\n",
    "\n",
    "clf_svd = RandomForestClassifier(n_estimators=50)\n",
    "clf_svd.fit(fit_train_svd, y_train)\n",
    "\n",
    "fit_test_svd = pipe_svd.transform(X_test['Avis'])\n",
    "clf_svd.score(fit_test_svd, y_test)"
   ]
  },
  {
   "cell_type": "markdown",
   "metadata": {},
   "source": [
    "Les résultats de cette première tentative d'amélioration ne sont pas très bons par rapport à la méthode random forest sans SVD. Testons autre chose."
   ]
  },
  {
   "cell_type": "markdown",
   "metadata": {},
   "source": [
    "### 4.5.2- Application de la Regression logistique à ce résultat SVD "
   ]
  },
  {
   "cell_type": "code",
   "execution_count": 20,
   "metadata": {
    "tags": []
   },
   "outputs": [
    {
     "name": "stderr",
     "output_type": "stream",
     "text": [
      "c:\\Users\\Amaury\\.conda\\envs\\deeplearning\\Lib\\site-packages\\sklearn\\linear_model\\_logistic.py:458: ConvergenceWarning: lbfgs failed to converge (status=1):\n",
      "STOP: TOTAL NO. of ITERATIONS REACHED LIMIT.\n",
      "\n",
      "Increase the number of iterations (max_iter) or scale the data as shown in:\n",
      "    https://scikit-learn.org/stable/modules/preprocessing.html\n",
      "Please also refer to the documentation for alternative solver options:\n",
      "    https://scikit-learn.org/stable/modules/linear_model.html#logistic-regression\n",
      "  n_iter_i = _check_optimize_result(\n"
     ]
    },
    {
     "data": {
      "text/plain": [
       "0.85528"
      ]
     },
     "execution_count": 20,
     "metadata": {},
     "output_type": "execute_result"
    }
   ],
   "source": [
    "from sklearn.linear_model import LogisticRegression\n",
    "\n",
    "lr_svd = LogisticRegression(solver='lbfgs')\n",
    "lr_svd.fit(fit_train_svd, y_train)\n",
    "lr_svd.score(fit_test_svd, y_test)"
   ]
  },
  {
   "cell_type": "markdown",
   "metadata": {},
   "source": [
    "Ce score est meilleur que celui obtenu avec un random forest, mais reste inférieur à celui de la methode Logit sans SVD.\n",
    "\n",
    "**Cela veut dire qu'il faut garder davantage de dimensions.**"
   ]
  },
  {
   "cell_type": "markdown",
   "metadata": {},
   "source": [
    "# 5- word2vec\n",
    "__word2vec__ est une projection (comme ACP/SVD) en ce sens qu'il réduit les dimensions. \n",
    "\n",
    "__word2vec__ est plus d'une ACP non linéaire car il prend en compte le contexte."
   ]
  },
  {
   "cell_type": "code",
   "execution_count": 22,
   "metadata": {
    "tags": []
   },
   "outputs": [],
   "source": [
    "if False :\n",
    "    !pip install gensim\n",
    "    !pip install Levenshtein"
   ]
  },
  {
   "cell_type": "markdown",
   "metadata": {},
   "source": [
    "### 5.1- Tokenisation du texte des Avis"
   ]
  },
  {
   "cell_type": "code",
   "execution_count": 24,
   "metadata": {
    "tags": []
   },
   "outputs": [],
   "source": [
    "from gensim.utils import tokenize\n",
    "Avis = [list(tokenize(s, deacc=True, lower=True)) for s in X_train['Avis']]"
   ]
  },
  {
   "cell_type": "markdown",
   "metadata": {},
   "source": [
    "### 5.2- Application de Wor2Vec"
   ]
  },
  {
   "cell_type": "markdown",
   "metadata": {},
   "source": [
    "**N.B. : Les paramètres d'apprentissage du modèle Word2Vec ne sont pas toujours décrit de façon explicite.**\n"
   ]
  },
  {
   "cell_type": "code",
   "execution_count": 25,
   "metadata": {
    "tags": []
   },
   "outputs": [],
   "source": [
    "from gensim.models import word2vec\n",
    "#model = word2vec.Word2Vec(Avis, size=300, window=20, min_count=2, workers=1, iter=100)\n",
    "model = word2vec.Word2Vec(Avis,  window=20, min_count=2, workers=1)"
   ]
  },
  {
   "cell_type": "code",
   "execution_count": 26,
   "metadata": {},
   "outputs": [],
   "source": [
    "# On sauve le modèle entrainé\n",
    "model.save('trained_word2vec.bin')"
   ]
  },
  {
   "cell_type": "markdown",
   "metadata": {},
   "source": [
    "# 6- Vers Doc2Vect (manuel & expérimental)\n",
    "\n",
    "**Pour chaque phrase, on fait la somme des vecteurs associés aux mots qui la composent ou pas si le mot n'est pas dans le vocabulaire.**\n",
    "\n",
    "* Proche de __doc2vect__\n",
    "* Il y a probablement des fonctions déjà prêtes à l'emploi mais la documentation de gensim n'était pas assez explicite \n",
    "\n",
    "Réfs : \n",
    "\n",
    "Efficient Estimation of Word Representations in Vector Space     \n",
    "\n",
    "Distributed Representations of Words and Phrases and their Compositionality."
   ]
  },
  {
   "cell_type": "code",
   "execution_count": 27,
   "metadata": {
    "tags": []
   },
   "outputs": [
    {
     "data": {
      "text/plain": [
       "(37500, 100)"
      ]
     },
     "execution_count": 27,
     "metadata": {},
     "output_type": "execute_result"
    }
   ],
   "source": [
    "import numpy as np\n",
    "\n",
    "def get_vect(word, model):\n",
    "    try:\n",
    "        return model.wv[word]\n",
    "    except KeyError:\n",
    "        return np.zeros((model.vector_size,))\n",
    "\n",
    "def sum_vectors(phrase, model):\n",
    "    return sum(get_vect(w, model) for w in phrase)\n",
    "\n",
    "def word2vec_features(X, model):\n",
    "    feats = np.vstack([sum_vectors(p, model) for p in X])\n",
    "    return feats\n",
    "\n",
    "wv_train_feat = word2vec_features(X_train[\"Avis\"], model)\n",
    "wv_train_feat.shape"
   ]
  },
  {
   "cell_type": "markdown",
   "metadata": {},
   "source": [
    "### 6.1 Logit sur word2vect"
   ]
  },
  {
   "cell_type": "code",
   "execution_count": 28,
   "metadata": {
    "tags": []
   },
   "outputs": [
    {
     "data": {
      "text/plain": [
       "0.62024"
      ]
     },
     "execution_count": 28,
     "metadata": {},
     "output_type": "execute_result"
    }
   ],
   "source": [
    "clfwv = LogisticRegression(solver='lbfgs', max_iter=1000)\n",
    "clfwv.fit(wv_train_feat, y_train)\n",
    "\n",
    "wv_test_feat = word2vec_features(X_test[\"Avis\"], model)\n",
    "\n",
    "clfwv.score(wv_test_feat, y_test)"
   ]
  },
  {
   "cell_type": "markdown",
   "metadata": {},
   "source": [
    "La performance est bien moindre et encore  moindre que la performance obtenue avec l'ACP. \n",
    "Il faudrait 'tuner' les hyperparamètres de l'apprentissage ou réutiliser un model appris sur un corpus similaire aux données initiales mais bien plus grand. "
   ]
  },
  {
   "cell_type": "markdown",
   "metadata": {},
   "source": [
    "# Conclusion\n",
    "\n",
    "Sur cette base de données, le meilleur modèle semble être la régression logistique avec cross validation avec un score de 0.918.\n",
    "\n",
    "Toutefois, on peut imaginer d'autres modèles qui ont le potentiel de battre celui-ci. Par exemple, une régression logistique sur Word2Vect entrainé sur une beaucoup plus grande base de données, ou un Extreme Gradient Boosting utilisant plus d'estimateurs plus profonds."
   ]
  }
 ],
 "metadata": {
  "kernelspec": {
   "display_name": "Python 3 (ipykernel)",
   "language": "python",
   "name": "python3"
  },
  "language_info": {
   "codemirror_mode": {
    "name": "ipython",
    "version": 3
   },
   "file_extension": ".py",
   "mimetype": "text/x-python",
   "name": "python",
   "nbconvert_exporter": "python",
   "pygments_lexer": "ipython3",
   "version": "3.11.5"
  },
  "toc-showcode": false
 },
 "nbformat": 4,
 "nbformat_minor": 4
}
